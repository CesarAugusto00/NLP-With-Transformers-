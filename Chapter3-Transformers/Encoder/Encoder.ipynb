{
  "nbformat": 4,
  "nbformat_minor": 0,
  "metadata": {
    "colab": {
      "provenance": [],
      "gpuType": "T4"
    },
    "kernelspec": {
      "name": "python3",
      "display_name": "Python 3"
    },
    "language_info": {
      "name": "python"
    },
    "accelerator": "GPU",
    "widgets": {
      "application/vnd.jupyter.widget-state+json": {
        "85885c7019304719b7c82c3d83c0ab6c": {
          "model_module": "@jupyter-widgets/controls",
          "model_name": "HBoxModel",
          "model_module_version": "1.5.0",
          "state": {
            "_dom_classes": [],
            "_model_module": "@jupyter-widgets/controls",
            "_model_module_version": "1.5.0",
            "_model_name": "HBoxModel",
            "_view_count": null,
            "_view_module": "@jupyter-widgets/controls",
            "_view_module_version": "1.5.0",
            "_view_name": "HBoxView",
            "box_style": "",
            "children": [
              "IPY_MODEL_6b8df9d032284e29b606af2b7f27489b",
              "IPY_MODEL_c72eb40edee7416d843925b1462e30d5",
              "IPY_MODEL_825b95df1132483b8a648a3d1138620f"
            ],
            "layout": "IPY_MODEL_fc3a3c731aa14f7f86dfa27d747dfe0b"
          }
        },
        "6b8df9d032284e29b606af2b7f27489b": {
          "model_module": "@jupyter-widgets/controls",
          "model_name": "HTMLModel",
          "model_module_version": "1.5.0",
          "state": {
            "_dom_classes": [],
            "_model_module": "@jupyter-widgets/controls",
            "_model_module_version": "1.5.0",
            "_model_name": "HTMLModel",
            "_view_count": null,
            "_view_module": "@jupyter-widgets/controls",
            "_view_module_version": "1.5.0",
            "_view_name": "HTMLView",
            "description": "",
            "description_tooltip": null,
            "layout": "IPY_MODEL_f04326cbe4524ef78cac64db6f41dc58",
            "placeholder": "​",
            "style": "IPY_MODEL_b3e251596aef4ec7bc46c7fcb3fa5434",
            "value": "tokenizer_config.json: 100%"
          }
        },
        "c72eb40edee7416d843925b1462e30d5": {
          "model_module": "@jupyter-widgets/controls",
          "model_name": "FloatProgressModel",
          "model_module_version": "1.5.0",
          "state": {
            "_dom_classes": [],
            "_model_module": "@jupyter-widgets/controls",
            "_model_module_version": "1.5.0",
            "_model_name": "FloatProgressModel",
            "_view_count": null,
            "_view_module": "@jupyter-widgets/controls",
            "_view_module_version": "1.5.0",
            "_view_name": "ProgressView",
            "bar_style": "success",
            "description": "",
            "description_tooltip": null,
            "layout": "IPY_MODEL_9105c144859840efa22edb3bfa901276",
            "max": 48,
            "min": 0,
            "orientation": "horizontal",
            "style": "IPY_MODEL_88d49a48638742ef971201d5c4cbb363",
            "value": 48
          }
        },
        "825b95df1132483b8a648a3d1138620f": {
          "model_module": "@jupyter-widgets/controls",
          "model_name": "HTMLModel",
          "model_module_version": "1.5.0",
          "state": {
            "_dom_classes": [],
            "_model_module": "@jupyter-widgets/controls",
            "_model_module_version": "1.5.0",
            "_model_name": "HTMLModel",
            "_view_count": null,
            "_view_module": "@jupyter-widgets/controls",
            "_view_module_version": "1.5.0",
            "_view_name": "HTMLView",
            "description": "",
            "description_tooltip": null,
            "layout": "IPY_MODEL_b1dc7a420a374c139a33f2e6915396dd",
            "placeholder": "​",
            "style": "IPY_MODEL_d61dcec74e974900a15701e76a39b1c0",
            "value": " 48.0/48.0 [00:00&lt;00:00, 4.53kB/s]"
          }
        },
        "fc3a3c731aa14f7f86dfa27d747dfe0b": {
          "model_module": "@jupyter-widgets/base",
          "model_name": "LayoutModel",
          "model_module_version": "1.2.0",
          "state": {
            "_model_module": "@jupyter-widgets/base",
            "_model_module_version": "1.2.0",
            "_model_name": "LayoutModel",
            "_view_count": null,
            "_view_module": "@jupyter-widgets/base",
            "_view_module_version": "1.2.0",
            "_view_name": "LayoutView",
            "align_content": null,
            "align_items": null,
            "align_self": null,
            "border": null,
            "bottom": null,
            "display": null,
            "flex": null,
            "flex_flow": null,
            "grid_area": null,
            "grid_auto_columns": null,
            "grid_auto_flow": null,
            "grid_auto_rows": null,
            "grid_column": null,
            "grid_gap": null,
            "grid_row": null,
            "grid_template_areas": null,
            "grid_template_columns": null,
            "grid_template_rows": null,
            "height": null,
            "justify_content": null,
            "justify_items": null,
            "left": null,
            "margin": null,
            "max_height": null,
            "max_width": null,
            "min_height": null,
            "min_width": null,
            "object_fit": null,
            "object_position": null,
            "order": null,
            "overflow": null,
            "overflow_x": null,
            "overflow_y": null,
            "padding": null,
            "right": null,
            "top": null,
            "visibility": null,
            "width": null
          }
        },
        "f04326cbe4524ef78cac64db6f41dc58": {
          "model_module": "@jupyter-widgets/base",
          "model_name": "LayoutModel",
          "model_module_version": "1.2.0",
          "state": {
            "_model_module": "@jupyter-widgets/base",
            "_model_module_version": "1.2.0",
            "_model_name": "LayoutModel",
            "_view_count": null,
            "_view_module": "@jupyter-widgets/base",
            "_view_module_version": "1.2.0",
            "_view_name": "LayoutView",
            "align_content": null,
            "align_items": null,
            "align_self": null,
            "border": null,
            "bottom": null,
            "display": null,
            "flex": null,
            "flex_flow": null,
            "grid_area": null,
            "grid_auto_columns": null,
            "grid_auto_flow": null,
            "grid_auto_rows": null,
            "grid_column": null,
            "grid_gap": null,
            "grid_row": null,
            "grid_template_areas": null,
            "grid_template_columns": null,
            "grid_template_rows": null,
            "height": null,
            "justify_content": null,
            "justify_items": null,
            "left": null,
            "margin": null,
            "max_height": null,
            "max_width": null,
            "min_height": null,
            "min_width": null,
            "object_fit": null,
            "object_position": null,
            "order": null,
            "overflow": null,
            "overflow_x": null,
            "overflow_y": null,
            "padding": null,
            "right": null,
            "top": null,
            "visibility": null,
            "width": null
          }
        },
        "b3e251596aef4ec7bc46c7fcb3fa5434": {
          "model_module": "@jupyter-widgets/controls",
          "model_name": "DescriptionStyleModel",
          "model_module_version": "1.5.0",
          "state": {
            "_model_module": "@jupyter-widgets/controls",
            "_model_module_version": "1.5.0",
            "_model_name": "DescriptionStyleModel",
            "_view_count": null,
            "_view_module": "@jupyter-widgets/base",
            "_view_module_version": "1.2.0",
            "_view_name": "StyleView",
            "description_width": ""
          }
        },
        "9105c144859840efa22edb3bfa901276": {
          "model_module": "@jupyter-widgets/base",
          "model_name": "LayoutModel",
          "model_module_version": "1.2.0",
          "state": {
            "_model_module": "@jupyter-widgets/base",
            "_model_module_version": "1.2.0",
            "_model_name": "LayoutModel",
            "_view_count": null,
            "_view_module": "@jupyter-widgets/base",
            "_view_module_version": "1.2.0",
            "_view_name": "LayoutView",
            "align_content": null,
            "align_items": null,
            "align_self": null,
            "border": null,
            "bottom": null,
            "display": null,
            "flex": null,
            "flex_flow": null,
            "grid_area": null,
            "grid_auto_columns": null,
            "grid_auto_flow": null,
            "grid_auto_rows": null,
            "grid_column": null,
            "grid_gap": null,
            "grid_row": null,
            "grid_template_areas": null,
            "grid_template_columns": null,
            "grid_template_rows": null,
            "height": null,
            "justify_content": null,
            "justify_items": null,
            "left": null,
            "margin": null,
            "max_height": null,
            "max_width": null,
            "min_height": null,
            "min_width": null,
            "object_fit": null,
            "object_position": null,
            "order": null,
            "overflow": null,
            "overflow_x": null,
            "overflow_y": null,
            "padding": null,
            "right": null,
            "top": null,
            "visibility": null,
            "width": null
          }
        },
        "88d49a48638742ef971201d5c4cbb363": {
          "model_module": "@jupyter-widgets/controls",
          "model_name": "ProgressStyleModel",
          "model_module_version": "1.5.0",
          "state": {
            "_model_module": "@jupyter-widgets/controls",
            "_model_module_version": "1.5.0",
            "_model_name": "ProgressStyleModel",
            "_view_count": null,
            "_view_module": "@jupyter-widgets/base",
            "_view_module_version": "1.2.0",
            "_view_name": "StyleView",
            "bar_color": null,
            "description_width": ""
          }
        },
        "b1dc7a420a374c139a33f2e6915396dd": {
          "model_module": "@jupyter-widgets/base",
          "model_name": "LayoutModel",
          "model_module_version": "1.2.0",
          "state": {
            "_model_module": "@jupyter-widgets/base",
            "_model_module_version": "1.2.0",
            "_model_name": "LayoutModel",
            "_view_count": null,
            "_view_module": "@jupyter-widgets/base",
            "_view_module_version": "1.2.0",
            "_view_name": "LayoutView",
            "align_content": null,
            "align_items": null,
            "align_self": null,
            "border": null,
            "bottom": null,
            "display": null,
            "flex": null,
            "flex_flow": null,
            "grid_area": null,
            "grid_auto_columns": null,
            "grid_auto_flow": null,
            "grid_auto_rows": null,
            "grid_column": null,
            "grid_gap": null,
            "grid_row": null,
            "grid_template_areas": null,
            "grid_template_columns": null,
            "grid_template_rows": null,
            "height": null,
            "justify_content": null,
            "justify_items": null,
            "left": null,
            "margin": null,
            "max_height": null,
            "max_width": null,
            "min_height": null,
            "min_width": null,
            "object_fit": null,
            "object_position": null,
            "order": null,
            "overflow": null,
            "overflow_x": null,
            "overflow_y": null,
            "padding": null,
            "right": null,
            "top": null,
            "visibility": null,
            "width": null
          }
        },
        "d61dcec74e974900a15701e76a39b1c0": {
          "model_module": "@jupyter-widgets/controls",
          "model_name": "DescriptionStyleModel",
          "model_module_version": "1.5.0",
          "state": {
            "_model_module": "@jupyter-widgets/controls",
            "_model_module_version": "1.5.0",
            "_model_name": "DescriptionStyleModel",
            "_view_count": null,
            "_view_module": "@jupyter-widgets/base",
            "_view_module_version": "1.2.0",
            "_view_name": "StyleView",
            "description_width": ""
          }
        },
        "48ee4b81de504a2d9cc406a1ec3db4a3": {
          "model_module": "@jupyter-widgets/controls",
          "model_name": "HBoxModel",
          "model_module_version": "1.5.0",
          "state": {
            "_dom_classes": [],
            "_model_module": "@jupyter-widgets/controls",
            "_model_module_version": "1.5.0",
            "_model_name": "HBoxModel",
            "_view_count": null,
            "_view_module": "@jupyter-widgets/controls",
            "_view_module_version": "1.5.0",
            "_view_name": "HBoxView",
            "box_style": "",
            "children": [
              "IPY_MODEL_97cae71d42ba4c1495e1352d76a764de",
              "IPY_MODEL_8f52df6e5d494a2999c70a3abc5d9d3b",
              "IPY_MODEL_0d13872e020047f9ab254f385ae88086"
            ],
            "layout": "IPY_MODEL_7f14b0030d43475ca22de4f61c245b31"
          }
        },
        "97cae71d42ba4c1495e1352d76a764de": {
          "model_module": "@jupyter-widgets/controls",
          "model_name": "HTMLModel",
          "model_module_version": "1.5.0",
          "state": {
            "_dom_classes": [],
            "_model_module": "@jupyter-widgets/controls",
            "_model_module_version": "1.5.0",
            "_model_name": "HTMLModel",
            "_view_count": null,
            "_view_module": "@jupyter-widgets/controls",
            "_view_module_version": "1.5.0",
            "_view_name": "HTMLView",
            "description": "",
            "description_tooltip": null,
            "layout": "IPY_MODEL_37eaa72bade24198be2269dfa87954fe",
            "placeholder": "​",
            "style": "IPY_MODEL_11163820005e4605a1230cc03619a408",
            "value": "config.json: 100%"
          }
        },
        "8f52df6e5d494a2999c70a3abc5d9d3b": {
          "model_module": "@jupyter-widgets/controls",
          "model_name": "FloatProgressModel",
          "model_module_version": "1.5.0",
          "state": {
            "_dom_classes": [],
            "_model_module": "@jupyter-widgets/controls",
            "_model_module_version": "1.5.0",
            "_model_name": "FloatProgressModel",
            "_view_count": null,
            "_view_module": "@jupyter-widgets/controls",
            "_view_module_version": "1.5.0",
            "_view_name": "ProgressView",
            "bar_style": "success",
            "description": "",
            "description_tooltip": null,
            "layout": "IPY_MODEL_ca878dbed70e4edcb73298975e181e7d",
            "max": 570,
            "min": 0,
            "orientation": "horizontal",
            "style": "IPY_MODEL_a9bc8a93ff834bb180342d4f8d1784a6",
            "value": 570
          }
        },
        "0d13872e020047f9ab254f385ae88086": {
          "model_module": "@jupyter-widgets/controls",
          "model_name": "HTMLModel",
          "model_module_version": "1.5.0",
          "state": {
            "_dom_classes": [],
            "_model_module": "@jupyter-widgets/controls",
            "_model_module_version": "1.5.0",
            "_model_name": "HTMLModel",
            "_view_count": null,
            "_view_module": "@jupyter-widgets/controls",
            "_view_module_version": "1.5.0",
            "_view_name": "HTMLView",
            "description": "",
            "description_tooltip": null,
            "layout": "IPY_MODEL_e3d78c331f2445a0bbc2a34696525d19",
            "placeholder": "​",
            "style": "IPY_MODEL_0cdbc0f5d357487281eef81002a7e9d4",
            "value": " 570/570 [00:00&lt;00:00, 61.9kB/s]"
          }
        },
        "7f14b0030d43475ca22de4f61c245b31": {
          "model_module": "@jupyter-widgets/base",
          "model_name": "LayoutModel",
          "model_module_version": "1.2.0",
          "state": {
            "_model_module": "@jupyter-widgets/base",
            "_model_module_version": "1.2.0",
            "_model_name": "LayoutModel",
            "_view_count": null,
            "_view_module": "@jupyter-widgets/base",
            "_view_module_version": "1.2.0",
            "_view_name": "LayoutView",
            "align_content": null,
            "align_items": null,
            "align_self": null,
            "border": null,
            "bottom": null,
            "display": null,
            "flex": null,
            "flex_flow": null,
            "grid_area": null,
            "grid_auto_columns": null,
            "grid_auto_flow": null,
            "grid_auto_rows": null,
            "grid_column": null,
            "grid_gap": null,
            "grid_row": null,
            "grid_template_areas": null,
            "grid_template_columns": null,
            "grid_template_rows": null,
            "height": null,
            "justify_content": null,
            "justify_items": null,
            "left": null,
            "margin": null,
            "max_height": null,
            "max_width": null,
            "min_height": null,
            "min_width": null,
            "object_fit": null,
            "object_position": null,
            "order": null,
            "overflow": null,
            "overflow_x": null,
            "overflow_y": null,
            "padding": null,
            "right": null,
            "top": null,
            "visibility": null,
            "width": null
          }
        },
        "37eaa72bade24198be2269dfa87954fe": {
          "model_module": "@jupyter-widgets/base",
          "model_name": "LayoutModel",
          "model_module_version": "1.2.0",
          "state": {
            "_model_module": "@jupyter-widgets/base",
            "_model_module_version": "1.2.0",
            "_model_name": "LayoutModel",
            "_view_count": null,
            "_view_module": "@jupyter-widgets/base",
            "_view_module_version": "1.2.0",
            "_view_name": "LayoutView",
            "align_content": null,
            "align_items": null,
            "align_self": null,
            "border": null,
            "bottom": null,
            "display": null,
            "flex": null,
            "flex_flow": null,
            "grid_area": null,
            "grid_auto_columns": null,
            "grid_auto_flow": null,
            "grid_auto_rows": null,
            "grid_column": null,
            "grid_gap": null,
            "grid_row": null,
            "grid_template_areas": null,
            "grid_template_columns": null,
            "grid_template_rows": null,
            "height": null,
            "justify_content": null,
            "justify_items": null,
            "left": null,
            "margin": null,
            "max_height": null,
            "max_width": null,
            "min_height": null,
            "min_width": null,
            "object_fit": null,
            "object_position": null,
            "order": null,
            "overflow": null,
            "overflow_x": null,
            "overflow_y": null,
            "padding": null,
            "right": null,
            "top": null,
            "visibility": null,
            "width": null
          }
        },
        "11163820005e4605a1230cc03619a408": {
          "model_module": "@jupyter-widgets/controls",
          "model_name": "DescriptionStyleModel",
          "model_module_version": "1.5.0",
          "state": {
            "_model_module": "@jupyter-widgets/controls",
            "_model_module_version": "1.5.0",
            "_model_name": "DescriptionStyleModel",
            "_view_count": null,
            "_view_module": "@jupyter-widgets/base",
            "_view_module_version": "1.2.0",
            "_view_name": "StyleView",
            "description_width": ""
          }
        },
        "ca878dbed70e4edcb73298975e181e7d": {
          "model_module": "@jupyter-widgets/base",
          "model_name": "LayoutModel",
          "model_module_version": "1.2.0",
          "state": {
            "_model_module": "@jupyter-widgets/base",
            "_model_module_version": "1.2.0",
            "_model_name": "LayoutModel",
            "_view_count": null,
            "_view_module": "@jupyter-widgets/base",
            "_view_module_version": "1.2.0",
            "_view_name": "LayoutView",
            "align_content": null,
            "align_items": null,
            "align_self": null,
            "border": null,
            "bottom": null,
            "display": null,
            "flex": null,
            "flex_flow": null,
            "grid_area": null,
            "grid_auto_columns": null,
            "grid_auto_flow": null,
            "grid_auto_rows": null,
            "grid_column": null,
            "grid_gap": null,
            "grid_row": null,
            "grid_template_areas": null,
            "grid_template_columns": null,
            "grid_template_rows": null,
            "height": null,
            "justify_content": null,
            "justify_items": null,
            "left": null,
            "margin": null,
            "max_height": null,
            "max_width": null,
            "min_height": null,
            "min_width": null,
            "object_fit": null,
            "object_position": null,
            "order": null,
            "overflow": null,
            "overflow_x": null,
            "overflow_y": null,
            "padding": null,
            "right": null,
            "top": null,
            "visibility": null,
            "width": null
          }
        },
        "a9bc8a93ff834bb180342d4f8d1784a6": {
          "model_module": "@jupyter-widgets/controls",
          "model_name": "ProgressStyleModel",
          "model_module_version": "1.5.0",
          "state": {
            "_model_module": "@jupyter-widgets/controls",
            "_model_module_version": "1.5.0",
            "_model_name": "ProgressStyleModel",
            "_view_count": null,
            "_view_module": "@jupyter-widgets/base",
            "_view_module_version": "1.2.0",
            "_view_name": "StyleView",
            "bar_color": null,
            "description_width": ""
          }
        },
        "e3d78c331f2445a0bbc2a34696525d19": {
          "model_module": "@jupyter-widgets/base",
          "model_name": "LayoutModel",
          "model_module_version": "1.2.0",
          "state": {
            "_model_module": "@jupyter-widgets/base",
            "_model_module_version": "1.2.0",
            "_model_name": "LayoutModel",
            "_view_count": null,
            "_view_module": "@jupyter-widgets/base",
            "_view_module_version": "1.2.0",
            "_view_name": "LayoutView",
            "align_content": null,
            "align_items": null,
            "align_self": null,
            "border": null,
            "bottom": null,
            "display": null,
            "flex": null,
            "flex_flow": null,
            "grid_area": null,
            "grid_auto_columns": null,
            "grid_auto_flow": null,
            "grid_auto_rows": null,
            "grid_column": null,
            "grid_gap": null,
            "grid_row": null,
            "grid_template_areas": null,
            "grid_template_columns": null,
            "grid_template_rows": null,
            "height": null,
            "justify_content": null,
            "justify_items": null,
            "left": null,
            "margin": null,
            "max_height": null,
            "max_width": null,
            "min_height": null,
            "min_width": null,
            "object_fit": null,
            "object_position": null,
            "order": null,
            "overflow": null,
            "overflow_x": null,
            "overflow_y": null,
            "padding": null,
            "right": null,
            "top": null,
            "visibility": null,
            "width": null
          }
        },
        "0cdbc0f5d357487281eef81002a7e9d4": {
          "model_module": "@jupyter-widgets/controls",
          "model_name": "DescriptionStyleModel",
          "model_module_version": "1.5.0",
          "state": {
            "_model_module": "@jupyter-widgets/controls",
            "_model_module_version": "1.5.0",
            "_model_name": "DescriptionStyleModel",
            "_view_count": null,
            "_view_module": "@jupyter-widgets/base",
            "_view_module_version": "1.2.0",
            "_view_name": "StyleView",
            "description_width": ""
          }
        },
        "789c5d1a7c004a8c994a19d5744028cf": {
          "model_module": "@jupyter-widgets/controls",
          "model_name": "HBoxModel",
          "model_module_version": "1.5.0",
          "state": {
            "_dom_classes": [],
            "_model_module": "@jupyter-widgets/controls",
            "_model_module_version": "1.5.0",
            "_model_name": "HBoxModel",
            "_view_count": null,
            "_view_module": "@jupyter-widgets/controls",
            "_view_module_version": "1.5.0",
            "_view_name": "HBoxView",
            "box_style": "",
            "children": [
              "IPY_MODEL_5f9fb3055a1f4f7ca6c38dcbfc81bb8b",
              "IPY_MODEL_dfa3837eb895401385ba1faf311f6cf3",
              "IPY_MODEL_d53be7c653be496094a88393acdd45db"
            ],
            "layout": "IPY_MODEL_c40280ea749f4aef9006baadc247b316"
          }
        },
        "5f9fb3055a1f4f7ca6c38dcbfc81bb8b": {
          "model_module": "@jupyter-widgets/controls",
          "model_name": "HTMLModel",
          "model_module_version": "1.5.0",
          "state": {
            "_dom_classes": [],
            "_model_module": "@jupyter-widgets/controls",
            "_model_module_version": "1.5.0",
            "_model_name": "HTMLModel",
            "_view_count": null,
            "_view_module": "@jupyter-widgets/controls",
            "_view_module_version": "1.5.0",
            "_view_name": "HTMLView",
            "description": "",
            "description_tooltip": null,
            "layout": "IPY_MODEL_796ffbc5174849d09938d412f2c4e8c2",
            "placeholder": "​",
            "style": "IPY_MODEL_9967e8eab22245e7a9d1db0de9e56ad1",
            "value": "vocab.txt: 100%"
          }
        },
        "dfa3837eb895401385ba1faf311f6cf3": {
          "model_module": "@jupyter-widgets/controls",
          "model_name": "FloatProgressModel",
          "model_module_version": "1.5.0",
          "state": {
            "_dom_classes": [],
            "_model_module": "@jupyter-widgets/controls",
            "_model_module_version": "1.5.0",
            "_model_name": "FloatProgressModel",
            "_view_count": null,
            "_view_module": "@jupyter-widgets/controls",
            "_view_module_version": "1.5.0",
            "_view_name": "ProgressView",
            "bar_style": "success",
            "description": "",
            "description_tooltip": null,
            "layout": "IPY_MODEL_bfbadc19f634483e907d128c893034d1",
            "max": 231508,
            "min": 0,
            "orientation": "horizontal",
            "style": "IPY_MODEL_2b4ae0e937f14271af1c882e0b5e076a",
            "value": 231508
          }
        },
        "d53be7c653be496094a88393acdd45db": {
          "model_module": "@jupyter-widgets/controls",
          "model_name": "HTMLModel",
          "model_module_version": "1.5.0",
          "state": {
            "_dom_classes": [],
            "_model_module": "@jupyter-widgets/controls",
            "_model_module_version": "1.5.0",
            "_model_name": "HTMLModel",
            "_view_count": null,
            "_view_module": "@jupyter-widgets/controls",
            "_view_module_version": "1.5.0",
            "_view_name": "HTMLView",
            "description": "",
            "description_tooltip": null,
            "layout": "IPY_MODEL_55246031e2de421ab47390989182b5db",
            "placeholder": "​",
            "style": "IPY_MODEL_818fcaeaadb54bc49f08f945b50c5416",
            "value": " 232k/232k [00:00&lt;00:00, 15.0MB/s]"
          }
        },
        "c40280ea749f4aef9006baadc247b316": {
          "model_module": "@jupyter-widgets/base",
          "model_name": "LayoutModel",
          "model_module_version": "1.2.0",
          "state": {
            "_model_module": "@jupyter-widgets/base",
            "_model_module_version": "1.2.0",
            "_model_name": "LayoutModel",
            "_view_count": null,
            "_view_module": "@jupyter-widgets/base",
            "_view_module_version": "1.2.0",
            "_view_name": "LayoutView",
            "align_content": null,
            "align_items": null,
            "align_self": null,
            "border": null,
            "bottom": null,
            "display": null,
            "flex": null,
            "flex_flow": null,
            "grid_area": null,
            "grid_auto_columns": null,
            "grid_auto_flow": null,
            "grid_auto_rows": null,
            "grid_column": null,
            "grid_gap": null,
            "grid_row": null,
            "grid_template_areas": null,
            "grid_template_columns": null,
            "grid_template_rows": null,
            "height": null,
            "justify_content": null,
            "justify_items": null,
            "left": null,
            "margin": null,
            "max_height": null,
            "max_width": null,
            "min_height": null,
            "min_width": null,
            "object_fit": null,
            "object_position": null,
            "order": null,
            "overflow": null,
            "overflow_x": null,
            "overflow_y": null,
            "padding": null,
            "right": null,
            "top": null,
            "visibility": null,
            "width": null
          }
        },
        "796ffbc5174849d09938d412f2c4e8c2": {
          "model_module": "@jupyter-widgets/base",
          "model_name": "LayoutModel",
          "model_module_version": "1.2.0",
          "state": {
            "_model_module": "@jupyter-widgets/base",
            "_model_module_version": "1.2.0",
            "_model_name": "LayoutModel",
            "_view_count": null,
            "_view_module": "@jupyter-widgets/base",
            "_view_module_version": "1.2.0",
            "_view_name": "LayoutView",
            "align_content": null,
            "align_items": null,
            "align_self": null,
            "border": null,
            "bottom": null,
            "display": null,
            "flex": null,
            "flex_flow": null,
            "grid_area": null,
            "grid_auto_columns": null,
            "grid_auto_flow": null,
            "grid_auto_rows": null,
            "grid_column": null,
            "grid_gap": null,
            "grid_row": null,
            "grid_template_areas": null,
            "grid_template_columns": null,
            "grid_template_rows": null,
            "height": null,
            "justify_content": null,
            "justify_items": null,
            "left": null,
            "margin": null,
            "max_height": null,
            "max_width": null,
            "min_height": null,
            "min_width": null,
            "object_fit": null,
            "object_position": null,
            "order": null,
            "overflow": null,
            "overflow_x": null,
            "overflow_y": null,
            "padding": null,
            "right": null,
            "top": null,
            "visibility": null,
            "width": null
          }
        },
        "9967e8eab22245e7a9d1db0de9e56ad1": {
          "model_module": "@jupyter-widgets/controls",
          "model_name": "DescriptionStyleModel",
          "model_module_version": "1.5.0",
          "state": {
            "_model_module": "@jupyter-widgets/controls",
            "_model_module_version": "1.5.0",
            "_model_name": "DescriptionStyleModel",
            "_view_count": null,
            "_view_module": "@jupyter-widgets/base",
            "_view_module_version": "1.2.0",
            "_view_name": "StyleView",
            "description_width": ""
          }
        },
        "bfbadc19f634483e907d128c893034d1": {
          "model_module": "@jupyter-widgets/base",
          "model_name": "LayoutModel",
          "model_module_version": "1.2.0",
          "state": {
            "_model_module": "@jupyter-widgets/base",
            "_model_module_version": "1.2.0",
            "_model_name": "LayoutModel",
            "_view_count": null,
            "_view_module": "@jupyter-widgets/base",
            "_view_module_version": "1.2.0",
            "_view_name": "LayoutView",
            "align_content": null,
            "align_items": null,
            "align_self": null,
            "border": null,
            "bottom": null,
            "display": null,
            "flex": null,
            "flex_flow": null,
            "grid_area": null,
            "grid_auto_columns": null,
            "grid_auto_flow": null,
            "grid_auto_rows": null,
            "grid_column": null,
            "grid_gap": null,
            "grid_row": null,
            "grid_template_areas": null,
            "grid_template_columns": null,
            "grid_template_rows": null,
            "height": null,
            "justify_content": null,
            "justify_items": null,
            "left": null,
            "margin": null,
            "max_height": null,
            "max_width": null,
            "min_height": null,
            "min_width": null,
            "object_fit": null,
            "object_position": null,
            "order": null,
            "overflow": null,
            "overflow_x": null,
            "overflow_y": null,
            "padding": null,
            "right": null,
            "top": null,
            "visibility": null,
            "width": null
          }
        },
        "2b4ae0e937f14271af1c882e0b5e076a": {
          "model_module": "@jupyter-widgets/controls",
          "model_name": "ProgressStyleModel",
          "model_module_version": "1.5.0",
          "state": {
            "_model_module": "@jupyter-widgets/controls",
            "_model_module_version": "1.5.0",
            "_model_name": "ProgressStyleModel",
            "_view_count": null,
            "_view_module": "@jupyter-widgets/base",
            "_view_module_version": "1.2.0",
            "_view_name": "StyleView",
            "bar_color": null,
            "description_width": ""
          }
        },
        "55246031e2de421ab47390989182b5db": {
          "model_module": "@jupyter-widgets/base",
          "model_name": "LayoutModel",
          "model_module_version": "1.2.0",
          "state": {
            "_model_module": "@jupyter-widgets/base",
            "_model_module_version": "1.2.0",
            "_model_name": "LayoutModel",
            "_view_count": null,
            "_view_module": "@jupyter-widgets/base",
            "_view_module_version": "1.2.0",
            "_view_name": "LayoutView",
            "align_content": null,
            "align_items": null,
            "align_self": null,
            "border": null,
            "bottom": null,
            "display": null,
            "flex": null,
            "flex_flow": null,
            "grid_area": null,
            "grid_auto_columns": null,
            "grid_auto_flow": null,
            "grid_auto_rows": null,
            "grid_column": null,
            "grid_gap": null,
            "grid_row": null,
            "grid_template_areas": null,
            "grid_template_columns": null,
            "grid_template_rows": null,
            "height": null,
            "justify_content": null,
            "justify_items": null,
            "left": null,
            "margin": null,
            "max_height": null,
            "max_width": null,
            "min_height": null,
            "min_width": null,
            "object_fit": null,
            "object_position": null,
            "order": null,
            "overflow": null,
            "overflow_x": null,
            "overflow_y": null,
            "padding": null,
            "right": null,
            "top": null,
            "visibility": null,
            "width": null
          }
        },
        "818fcaeaadb54bc49f08f945b50c5416": {
          "model_module": "@jupyter-widgets/controls",
          "model_name": "DescriptionStyleModel",
          "model_module_version": "1.5.0",
          "state": {
            "_model_module": "@jupyter-widgets/controls",
            "_model_module_version": "1.5.0",
            "_model_name": "DescriptionStyleModel",
            "_view_count": null,
            "_view_module": "@jupyter-widgets/base",
            "_view_module_version": "1.2.0",
            "_view_name": "StyleView",
            "description_width": ""
          }
        },
        "845787625b5e4c10bc5b6945fc21f72d": {
          "model_module": "@jupyter-widgets/controls",
          "model_name": "HBoxModel",
          "model_module_version": "1.5.0",
          "state": {
            "_dom_classes": [],
            "_model_module": "@jupyter-widgets/controls",
            "_model_module_version": "1.5.0",
            "_model_name": "HBoxModel",
            "_view_count": null,
            "_view_module": "@jupyter-widgets/controls",
            "_view_module_version": "1.5.0",
            "_view_name": "HBoxView",
            "box_style": "",
            "children": [
              "IPY_MODEL_4caf94327a724fe4b386135cdebc169c",
              "IPY_MODEL_be0153ace109429586830d2e04321486",
              "IPY_MODEL_9b6fee7e334e473bbdaf3ca5d89b37a8"
            ],
            "layout": "IPY_MODEL_aa173a9de30947afba52dc93086e6587"
          }
        },
        "4caf94327a724fe4b386135cdebc169c": {
          "model_module": "@jupyter-widgets/controls",
          "model_name": "HTMLModel",
          "model_module_version": "1.5.0",
          "state": {
            "_dom_classes": [],
            "_model_module": "@jupyter-widgets/controls",
            "_model_module_version": "1.5.0",
            "_model_name": "HTMLModel",
            "_view_count": null,
            "_view_module": "@jupyter-widgets/controls",
            "_view_module_version": "1.5.0",
            "_view_name": "HTMLView",
            "description": "",
            "description_tooltip": null,
            "layout": "IPY_MODEL_d58c19b3d88a434b802eea5a64b84fe3",
            "placeholder": "​",
            "style": "IPY_MODEL_9baa22cd9ddc4b3bb538685ab7aa86dc",
            "value": "tokenizer.json: 100%"
          }
        },
        "be0153ace109429586830d2e04321486": {
          "model_module": "@jupyter-widgets/controls",
          "model_name": "FloatProgressModel",
          "model_module_version": "1.5.0",
          "state": {
            "_dom_classes": [],
            "_model_module": "@jupyter-widgets/controls",
            "_model_module_version": "1.5.0",
            "_model_name": "FloatProgressModel",
            "_view_count": null,
            "_view_module": "@jupyter-widgets/controls",
            "_view_module_version": "1.5.0",
            "_view_name": "ProgressView",
            "bar_style": "success",
            "description": "",
            "description_tooltip": null,
            "layout": "IPY_MODEL_d21bc23ff62d49709e0f638bb59c3471",
            "max": 466062,
            "min": 0,
            "orientation": "horizontal",
            "style": "IPY_MODEL_7b5103e0a9f6455f9bdbaa6efd5ab99d",
            "value": 466062
          }
        },
        "9b6fee7e334e473bbdaf3ca5d89b37a8": {
          "model_module": "@jupyter-widgets/controls",
          "model_name": "HTMLModel",
          "model_module_version": "1.5.0",
          "state": {
            "_dom_classes": [],
            "_model_module": "@jupyter-widgets/controls",
            "_model_module_version": "1.5.0",
            "_model_name": "HTMLModel",
            "_view_count": null,
            "_view_module": "@jupyter-widgets/controls",
            "_view_module_version": "1.5.0",
            "_view_name": "HTMLView",
            "description": "",
            "description_tooltip": null,
            "layout": "IPY_MODEL_66804c17f9744015bdc1593b42216661",
            "placeholder": "​",
            "style": "IPY_MODEL_71df81bf3a02420cadc7715d1fac0761",
            "value": " 466k/466k [00:00&lt;00:00, 1.03MB/s]"
          }
        },
        "aa173a9de30947afba52dc93086e6587": {
          "model_module": "@jupyter-widgets/base",
          "model_name": "LayoutModel",
          "model_module_version": "1.2.0",
          "state": {
            "_model_module": "@jupyter-widgets/base",
            "_model_module_version": "1.2.0",
            "_model_name": "LayoutModel",
            "_view_count": null,
            "_view_module": "@jupyter-widgets/base",
            "_view_module_version": "1.2.0",
            "_view_name": "LayoutView",
            "align_content": null,
            "align_items": null,
            "align_self": null,
            "border": null,
            "bottom": null,
            "display": null,
            "flex": null,
            "flex_flow": null,
            "grid_area": null,
            "grid_auto_columns": null,
            "grid_auto_flow": null,
            "grid_auto_rows": null,
            "grid_column": null,
            "grid_gap": null,
            "grid_row": null,
            "grid_template_areas": null,
            "grid_template_columns": null,
            "grid_template_rows": null,
            "height": null,
            "justify_content": null,
            "justify_items": null,
            "left": null,
            "margin": null,
            "max_height": null,
            "max_width": null,
            "min_height": null,
            "min_width": null,
            "object_fit": null,
            "object_position": null,
            "order": null,
            "overflow": null,
            "overflow_x": null,
            "overflow_y": null,
            "padding": null,
            "right": null,
            "top": null,
            "visibility": null,
            "width": null
          }
        },
        "d58c19b3d88a434b802eea5a64b84fe3": {
          "model_module": "@jupyter-widgets/base",
          "model_name": "LayoutModel",
          "model_module_version": "1.2.0",
          "state": {
            "_model_module": "@jupyter-widgets/base",
            "_model_module_version": "1.2.0",
            "_model_name": "LayoutModel",
            "_view_count": null,
            "_view_module": "@jupyter-widgets/base",
            "_view_module_version": "1.2.0",
            "_view_name": "LayoutView",
            "align_content": null,
            "align_items": null,
            "align_self": null,
            "border": null,
            "bottom": null,
            "display": null,
            "flex": null,
            "flex_flow": null,
            "grid_area": null,
            "grid_auto_columns": null,
            "grid_auto_flow": null,
            "grid_auto_rows": null,
            "grid_column": null,
            "grid_gap": null,
            "grid_row": null,
            "grid_template_areas": null,
            "grid_template_columns": null,
            "grid_template_rows": null,
            "height": null,
            "justify_content": null,
            "justify_items": null,
            "left": null,
            "margin": null,
            "max_height": null,
            "max_width": null,
            "min_height": null,
            "min_width": null,
            "object_fit": null,
            "object_position": null,
            "order": null,
            "overflow": null,
            "overflow_x": null,
            "overflow_y": null,
            "padding": null,
            "right": null,
            "top": null,
            "visibility": null,
            "width": null
          }
        },
        "9baa22cd9ddc4b3bb538685ab7aa86dc": {
          "model_module": "@jupyter-widgets/controls",
          "model_name": "DescriptionStyleModel",
          "model_module_version": "1.5.0",
          "state": {
            "_model_module": "@jupyter-widgets/controls",
            "_model_module_version": "1.5.0",
            "_model_name": "DescriptionStyleModel",
            "_view_count": null,
            "_view_module": "@jupyter-widgets/base",
            "_view_module_version": "1.2.0",
            "_view_name": "StyleView",
            "description_width": ""
          }
        },
        "d21bc23ff62d49709e0f638bb59c3471": {
          "model_module": "@jupyter-widgets/base",
          "model_name": "LayoutModel",
          "model_module_version": "1.2.0",
          "state": {
            "_model_module": "@jupyter-widgets/base",
            "_model_module_version": "1.2.0",
            "_model_name": "LayoutModel",
            "_view_count": null,
            "_view_module": "@jupyter-widgets/base",
            "_view_module_version": "1.2.0",
            "_view_name": "LayoutView",
            "align_content": null,
            "align_items": null,
            "align_self": null,
            "border": null,
            "bottom": null,
            "display": null,
            "flex": null,
            "flex_flow": null,
            "grid_area": null,
            "grid_auto_columns": null,
            "grid_auto_flow": null,
            "grid_auto_rows": null,
            "grid_column": null,
            "grid_gap": null,
            "grid_row": null,
            "grid_template_areas": null,
            "grid_template_columns": null,
            "grid_template_rows": null,
            "height": null,
            "justify_content": null,
            "justify_items": null,
            "left": null,
            "margin": null,
            "max_height": null,
            "max_width": null,
            "min_height": null,
            "min_width": null,
            "object_fit": null,
            "object_position": null,
            "order": null,
            "overflow": null,
            "overflow_x": null,
            "overflow_y": null,
            "padding": null,
            "right": null,
            "top": null,
            "visibility": null,
            "width": null
          }
        },
        "7b5103e0a9f6455f9bdbaa6efd5ab99d": {
          "model_module": "@jupyter-widgets/controls",
          "model_name": "ProgressStyleModel",
          "model_module_version": "1.5.0",
          "state": {
            "_model_module": "@jupyter-widgets/controls",
            "_model_module_version": "1.5.0",
            "_model_name": "ProgressStyleModel",
            "_view_count": null,
            "_view_module": "@jupyter-widgets/base",
            "_view_module_version": "1.2.0",
            "_view_name": "StyleView",
            "bar_color": null,
            "description_width": ""
          }
        },
        "66804c17f9744015bdc1593b42216661": {
          "model_module": "@jupyter-widgets/base",
          "model_name": "LayoutModel",
          "model_module_version": "1.2.0",
          "state": {
            "_model_module": "@jupyter-widgets/base",
            "_model_module_version": "1.2.0",
            "_model_name": "LayoutModel",
            "_view_count": null,
            "_view_module": "@jupyter-widgets/base",
            "_view_module_version": "1.2.0",
            "_view_name": "LayoutView",
            "align_content": null,
            "align_items": null,
            "align_self": null,
            "border": null,
            "bottom": null,
            "display": null,
            "flex": null,
            "flex_flow": null,
            "grid_area": null,
            "grid_auto_columns": null,
            "grid_auto_flow": null,
            "grid_auto_rows": null,
            "grid_column": null,
            "grid_gap": null,
            "grid_row": null,
            "grid_template_areas": null,
            "grid_template_columns": null,
            "grid_template_rows": null,
            "height": null,
            "justify_content": null,
            "justify_items": null,
            "left": null,
            "margin": null,
            "max_height": null,
            "max_width": null,
            "min_height": null,
            "min_width": null,
            "object_fit": null,
            "object_position": null,
            "order": null,
            "overflow": null,
            "overflow_x": null,
            "overflow_y": null,
            "padding": null,
            "right": null,
            "top": null,
            "visibility": null,
            "width": null
          }
        },
        "71df81bf3a02420cadc7715d1fac0761": {
          "model_module": "@jupyter-widgets/controls",
          "model_name": "DescriptionStyleModel",
          "model_module_version": "1.5.0",
          "state": {
            "_model_module": "@jupyter-widgets/controls",
            "_model_module_version": "1.5.0",
            "_model_name": "DescriptionStyleModel",
            "_view_count": null,
            "_view_module": "@jupyter-widgets/base",
            "_view_module_version": "1.2.0",
            "_view_name": "StyleView",
            "description_width": ""
          }
        }
      }
    }
  },
  "cells": [
    {
      "cell_type": "code",
      "source": [
        "import torch\n",
        "from torch import nn\n",
        "from transformers import AutoTokenizer, AutoConfig\n"
      ],
      "metadata": {
        "id": "ZyLIXy0WbUUq"
      },
      "execution_count": 1,
      "outputs": []
    },
    {
      "cell_type": "code",
      "source": [
        "from math import sqrt\n",
        "#This is to calculate the vlaues from the embeddings to the product of q, k and v"
      ],
      "metadata": {
        "id": "p4oqFyTJfhlz"
      },
      "execution_count": 2,
      "outputs": []
    },
    {
      "cell_type": "code",
      "source": [
        "import torch.nn.functional as F\n",
        "#This one is to use with F.softmax(score, dim=-1)"
      ],
      "metadata": {
        "id": "xY6nmqYGjoCz"
      },
      "execution_count": 3,
      "outputs": []
    },
    {
      "cell_type": "code",
      "execution_count": 4,
      "metadata": {
        "id": "0FJhCKrebE3i",
        "colab": {
          "base_uri": "https://localhost:8080/",
          "height": 273,
          "referenced_widgets": [
            "85885c7019304719b7c82c3d83c0ab6c",
            "6b8df9d032284e29b606af2b7f27489b",
            "c72eb40edee7416d843925b1462e30d5",
            "825b95df1132483b8a648a3d1138620f",
            "fc3a3c731aa14f7f86dfa27d747dfe0b",
            "f04326cbe4524ef78cac64db6f41dc58",
            "b3e251596aef4ec7bc46c7fcb3fa5434",
            "9105c144859840efa22edb3bfa901276",
            "88d49a48638742ef971201d5c4cbb363",
            "b1dc7a420a374c139a33f2e6915396dd",
            "d61dcec74e974900a15701e76a39b1c0",
            "48ee4b81de504a2d9cc406a1ec3db4a3",
            "97cae71d42ba4c1495e1352d76a764de",
            "8f52df6e5d494a2999c70a3abc5d9d3b",
            "0d13872e020047f9ab254f385ae88086",
            "7f14b0030d43475ca22de4f61c245b31",
            "37eaa72bade24198be2269dfa87954fe",
            "11163820005e4605a1230cc03619a408",
            "ca878dbed70e4edcb73298975e181e7d",
            "a9bc8a93ff834bb180342d4f8d1784a6",
            "e3d78c331f2445a0bbc2a34696525d19",
            "0cdbc0f5d357487281eef81002a7e9d4",
            "789c5d1a7c004a8c994a19d5744028cf",
            "5f9fb3055a1f4f7ca6c38dcbfc81bb8b",
            "dfa3837eb895401385ba1faf311f6cf3",
            "d53be7c653be496094a88393acdd45db",
            "c40280ea749f4aef9006baadc247b316",
            "796ffbc5174849d09938d412f2c4e8c2",
            "9967e8eab22245e7a9d1db0de9e56ad1",
            "bfbadc19f634483e907d128c893034d1",
            "2b4ae0e937f14271af1c882e0b5e076a",
            "55246031e2de421ab47390989182b5db",
            "818fcaeaadb54bc49f08f945b50c5416",
            "845787625b5e4c10bc5b6945fc21f72d",
            "4caf94327a724fe4b386135cdebc169c",
            "be0153ace109429586830d2e04321486",
            "9b6fee7e334e473bbdaf3ca5d89b37a8",
            "aa173a9de30947afba52dc93086e6587",
            "d58c19b3d88a434b802eea5a64b84fe3",
            "9baa22cd9ddc4b3bb538685ab7aa86dc",
            "d21bc23ff62d49709e0f638bb59c3471",
            "7b5103e0a9f6455f9bdbaa6efd5ab99d",
            "66804c17f9744015bdc1593b42216661",
            "71df81bf3a02420cadc7715d1fac0761"
          ]
        },
        "outputId": "c09dd9a2-864f-4ed5-cc4a-29270a82539a"
      },
      "outputs": [
        {
          "output_type": "stream",
          "name": "stderr",
          "text": [
            "/usr/local/lib/python3.12/dist-packages/huggingface_hub/utils/_auth.py:94: UserWarning: \n",
            "The secret `HF_TOKEN` does not exist in your Colab secrets.\n",
            "To authenticate with the Hugging Face Hub, create a token in your settings tab (https://huggingface.co/settings/tokens), set it as secret in your Google Colab and restart your session.\n",
            "You will be able to reuse this secret in all of your notebooks.\n",
            "Please note that authentication is recommended but still optional to access public models or datasets.\n",
            "  warnings.warn(\n"
          ]
        },
        {
          "output_type": "display_data",
          "data": {
            "text/plain": [
              "tokenizer_config.json:   0%|          | 0.00/48.0 [00:00<?, ?B/s]"
            ],
            "application/vnd.jupyter.widget-view+json": {
              "version_major": 2,
              "version_minor": 0,
              "model_id": "85885c7019304719b7c82c3d83c0ab6c"
            }
          },
          "metadata": {}
        },
        {
          "output_type": "display_data",
          "data": {
            "text/plain": [
              "config.json:   0%|          | 0.00/570 [00:00<?, ?B/s]"
            ],
            "application/vnd.jupyter.widget-view+json": {
              "version_major": 2,
              "version_minor": 0,
              "model_id": "48ee4b81de504a2d9cc406a1ec3db4a3"
            }
          },
          "metadata": {}
        },
        {
          "output_type": "display_data",
          "data": {
            "text/plain": [
              "vocab.txt:   0%|          | 0.00/232k [00:00<?, ?B/s]"
            ],
            "application/vnd.jupyter.widget-view+json": {
              "version_major": 2,
              "version_minor": 0,
              "model_id": "789c5d1a7c004a8c994a19d5744028cf"
            }
          },
          "metadata": {}
        },
        {
          "output_type": "display_data",
          "data": {
            "text/plain": [
              "tokenizer.json:   0%|          | 0.00/466k [00:00<?, ?B/s]"
            ],
            "application/vnd.jupyter.widget-view+json": {
              "version_major": 2,
              "version_minor": 0,
              "model_id": "845787625b5e4c10bc5b6945fc21f72d"
            }
          },
          "metadata": {}
        }
      ],
      "source": [
        "model_ckpt =\"bert-base-uncased\"\n",
        "tokenizer = AutoTokenizer.from_pretrained(model_ckpt)\n",
        "\n",
        "text = \"time flies like an arrow\"\n"
      ]
    },
    {
      "cell_type": "code",
      "source": [
        "#here we convert the text into input\n",
        "#Note that add_special_token is False to omit [CLS] and [SEP]from bert model\n",
        "inputs = tokenizer(text, return_tensors=\"pt\", add_special_tokens=False)\n",
        "inputs.input_ids"
      ],
      "metadata": {
        "colab": {
          "base_uri": "https://localhost:8080/"
        },
        "id": "37qExML6evst",
        "outputId": "8e5ab1d0-2a3e-4a33-bcb1-5b97660ddb50"
      },
      "execution_count": 5,
      "outputs": [
        {
          "output_type": "execute_result",
          "data": {
            "text/plain": [
              "tensor([[ 2051, 10029,  2066,  2019,  8612]])"
            ]
          },
          "metadata": {},
          "execution_count": 5
        }
      ]
    },
    {
      "cell_type": "code",
      "source": [
        "config = AutoConfig.from_pretrained(model_ckpt)\n",
        "token_emb = nn.Embedding(config.vocab_size, config.hidden_size)\n",
        "token_emb"
      ],
      "metadata": {
        "colab": {
          "base_uri": "https://localhost:8080/"
        },
        "id": "MFMIVWXccfjZ",
        "outputId": "c038ff22-250d-47db-aaa6-a3cab73832cd"
      },
      "execution_count": 6,
      "outputs": [
        {
          "output_type": "execute_result",
          "data": {
            "text/plain": [
              "Embedding(30522, 768)"
            ]
          },
          "metadata": {},
          "execution_count": 6
        }
      ]
    },
    {
      "cell_type": "code",
      "source": [
        "#Lookup table from teh input ID'S to generate the embeddings\n",
        "inputs_embeds = token_emb(inputs.input_ids)\n",
        "inputs_embeds.size()"
      ],
      "metadata": {
        "colab": {
          "base_uri": "https://localhost:8080/"
        },
        "id": "f-C5nxspcurV",
        "outputId": "8e86578a-de51-4402-9a5a-72b69d42976e"
      },
      "execution_count": 7,
      "outputs": [
        {
          "output_type": "execute_result",
          "data": {
            "text/plain": [
              "torch.Size([1, 5, 768])"
            ]
          },
          "metadata": {},
          "execution_count": 7
        }
      ]
    },
    {
      "cell_type": "code",
      "source": [
        "#Here we have our embeddings so we calculate the vquery values, key values and v values\n",
        "\n",
        "#Note here that the key, value and query are the same from teh input_embeds but in another book LLM\n",
        "#mention that are values that come from the embeddings and it respective weights (weigh for k,v,q)\n",
        "query = key = value = inputs_embeds\n",
        "dim_k = key.size(-1)\n",
        "scores = torch.bmm(query, key.transpose(1, 2)) / sqrt(dim_k)\n",
        "scores.size()"
      ],
      "metadata": {
        "colab": {
          "base_uri": "https://localhost:8080/"
        },
        "id": "yKNHh84Wcg1f",
        "outputId": "a2759599-1754-4ee2-96e7-fade672bbabb"
      },
      "execution_count": 8,
      "outputs": [
        {
          "output_type": "execute_result",
          "data": {
            "text/plain": [
              "torch.Size([1, 5, 5])"
            ]
          },
          "metadata": {},
          "execution_count": 8
        }
      ]
    },
    {
      "cell_type": "code",
      "source": [
        "#This is to apply the softmax to the previous result (scores)\n",
        "weights = F.softmax(scores, dim=-1)\n",
        "weights.sum(dim=-1)"
      ],
      "metadata": {
        "colab": {
          "base_uri": "https://localhost:8080/"
        },
        "id": "qjMXKjCxf5De",
        "outputId": "78c247d3-2a35-47a6-bbb4-ea02ee1bad98"
      },
      "execution_count": 9,
      "outputs": [
        {
          "output_type": "execute_result",
          "data": {
            "text/plain": [
              "tensor([[1., 1., 1., 1., 1.]], grad_fn=<SumBackward1>)"
            ]
          },
          "metadata": {},
          "execution_count": 9
        }
      ]
    },
    {
      "cell_type": "code",
      "source": [
        "#Then we finally multiply the weights matrix (the softmax of query and key /sqrt(dim_k)) with value\n",
        "attn_outputs = torch.bmm(weights, value)\n",
        "attn_outputs.shape"
      ],
      "metadata": {
        "colab": {
          "base_uri": "https://localhost:8080/"
        },
        "id": "E8YI8aM0kkeF",
        "outputId": "10d4bfe1-80f5-4408-a9e1-77cead119b54"
      },
      "execution_count": 10,
      "outputs": [
        {
          "output_type": "execute_result",
          "data": {
            "text/plain": [
              "torch.Size([1, 5, 768])"
            ]
          },
          "metadata": {},
          "execution_count": 10
        }
      ]
    },
    {
      "cell_type": "code",
      "source": [],
      "metadata": {
        "id": "uWKNVYOTlBAH"
      },
      "execution_count": 10,
      "outputs": []
    },
    {
      "cell_type": "markdown",
      "source": [
        "#The above can be done in the following function\n"
      ],
      "metadata": {
        "id": "hvaUbuWulIzP"
      }
    },
    {
      "cell_type": "code",
      "source": [
        "def scaled_dot_product_attention(query, key, value):\n",
        "    dim_k = query.size(-1)\n",
        "    scores = torch.bmm(query, key.transpose(1, 2)) / sqrt(dim_k)\n",
        "    weights = F.softmax(scores, dim=-1)\n",
        "    return torch.bmm(weights, value)"
      ],
      "metadata": {
        "id": "b2w1yJy0lLgB"
      },
      "execution_count": 11,
      "outputs": []
    },
    {
      "cell_type": "code",
      "source": [],
      "metadata": {
        "id": "90hgxBHnlOBK"
      },
      "execution_count": 11,
      "outputs": []
    },
    {
      "cell_type": "markdown",
      "source": [
        "#Below is a projection of the key, queue and value"
      ],
      "metadata": {
        "id": "SeYcyYtllh91"
      }
    },
    {
      "cell_type": "code",
      "source": [
        "class AttentionHead(nn.Module):\n",
        "  def __init__(self, embed_dim, head_size):\n",
        "    super().__init__()\n",
        "    self.query = nn.Linear(embed_dim, head_size, bias=False)\n",
        "    self.key = nn.Linear(embed_dim, head_size, bias=False)\n",
        "    self.value = nn.Linear(embed_dim, head_size, bias=False)\n",
        "\n",
        "\n",
        "  def forward(self, hidden_state):\n",
        "    attn_outputs = scaled_dot_product_attention(\n",
        "        self.query(hidden_state), self.key(hidden_state), self.value(hidden_state)\n",
        "    )\n",
        "    return attn_outputs\n",
        "\n",
        "    #Here note that here we are creating 3 separate linear layers with the number of dimention of the vector\n",
        "    # as input and output a higher dimension which is the dimension we want to project\n",
        "    # NOTE that the output size dimension of the layers tends to be a multiple from the input\n",
        "    #Ejem book bert has 12 attention heads so the dimension of each head is 768/12 = 64\n"
      ],
      "metadata": {
        "id": "6FUoubDllpVF"
      },
      "execution_count": 12,
      "outputs": []
    },
    {
      "cell_type": "code",
      "source": [
        "class MultiHeadAttention(nn.Module):\n",
        "    def __init__(self, config):\n",
        "        super().__init__()\n",
        "        embed_dim = config.hidden_size\n",
        "        num_heads = config.num_attention_heads\n",
        "        head_dim = embed_dim // num_heads\n",
        "        self.heads = nn.ModuleList(\n",
        "            [AttentionHead(embed_dim, head_dim) for _ in range(num_heads)]\n",
        "        )\n",
        "        self.output_linear = nn.Linear(embed_dim, embed_dim)\n",
        "\n",
        "    def forward(self, hidden_state):\n",
        "        x = torch.cat([h(hidden_state) for h in self.heads], dim=-1)\n",
        "        x = self.output_linear(x)\n",
        "        return x"
      ],
      "metadata": {
        "id": "MAdo9f6zl8uh"
      },
      "execution_count": 13,
      "outputs": []
    },
    {
      "cell_type": "code",
      "source": [
        "multihead_attn = MultiHeadAttention(config)\n",
        "attn_output = multihead_attn(inputs_embeds)\n",
        "attn_output.size()"
      ],
      "metadata": {
        "colab": {
          "base_uri": "https://localhost:8080/"
        },
        "id": "vrLH8PYUvDVo",
        "outputId": "7b13c0ba-4dce-455d-813e-f378cf3598c1"
      },
      "execution_count": 14,
      "outputs": [
        {
          "output_type": "execute_result",
          "data": {
            "text/plain": [
              "torch.Size([1, 5, 768])"
            ]
          },
          "metadata": {},
          "execution_count": 14
        }
      ]
    },
    {
      "cell_type": "code",
      "source": [
        "class FeedForward(nn.Module):\n",
        "    def __init__(self, config):\n",
        "        super().__init__()\n",
        "        self.linear_1 = nn.Linear(config.hidden_size, config.intermediate_size)\n",
        "        self.linear_2 = nn.Linear(config.intermediate_size, config.hidden_size)\n",
        "        self.gelu = nn.GELU()\n",
        "        self.dropout = nn.Dropout(config.hidden_dropout_prob)\n",
        "\n",
        "    def forward(self, x):\n",
        "        x = self.linear_1(x)\n",
        "        x = self.gelu(x)\n",
        "        x = self.linear_2(x)\n",
        "        x = self.dropout(x)\n",
        "        return x"
      ],
      "metadata": {
        "id": "uyQmrDwLvNvh"
      },
      "execution_count": 15,
      "outputs": []
    },
    {
      "cell_type": "code",
      "source": [
        "feed_forward = FeedForward(config)\n",
        "ff_outputs = feed_forward(attn_outputs)\n",
        "ff_outputs.size()"
      ],
      "metadata": {
        "colab": {
          "base_uri": "https://localhost:8080/"
        },
        "id": "tWrT4KKd6SiX",
        "outputId": "065bb48f-ba34-4f86-aace-0f8f8112d02c"
      },
      "execution_count": 16,
      "outputs": [
        {
          "output_type": "execute_result",
          "data": {
            "text/plain": [
              "torch.Size([1, 5, 768])"
            ]
          },
          "metadata": {},
          "execution_count": 16
        }
      ]
    },
    {
      "cell_type": "code",
      "source": [],
      "metadata": {
        "id": "lrRxX5vC6V02"
      },
      "execution_count": 16,
      "outputs": []
    },
    {
      "cell_type": "markdown",
      "source": [
        "# Normalization and skip connection implemnted as following\n",
        "![image.png](data:image/png;base64,iVBORw0KGgoAAAANSUhEUgAAA0MAAAC9CAYAAABxsKYbAAAAAXNSR0IArs4c6QAAAARnQU1BAACxjwv8YQUAAAAJcEhZcwAADsMAAA7DAcdvqGQAAKsfSURBVHhe7L15vB1Fmbj/VHef/Zy7b7nJzb4nBAhJCDsEBNkXRRRRFvWLg4yj4ww6OjrO6DjOjI4bOvpTQEUdR3AHHEH2LSRAQkL25CY3ufu+nP10d/3+qO6Tcy83AbJAlno+n8rJ7a6u3t5+q96qt94SUkqJRqPRaDQajUaj0RxnGGM3aDQajUaj0Wg0Gs3xgDaGNBqNRqPRaDQazXGJNoY0Go1Go9FoNBrNcYk2hjQajUaj0Wg0Gs1xiTaGNBqNRqPRaDQazXGJNoY0Go1Go9FoNBrNcYk2hjQajUaj0Wg0Gs1xiTaGNBqNRqPRaDQazXGJNoY0Go1Go9FoNBrNcYk2hjQajUaj0Wg0Gs1xiTaGNBqNRqPRaDQazXGJNoY0Go1Go9FoNBrNcYk2hjQajUaj0Wg0Gs1xiTaGNBqNRqPRaDQazXGJNoY0Go1Go9FoNBrNcYk2hjQajUaj0Wg0Gs1xiTaGNBqNRqPRaDQazXGJNoY0Go1Go9FoNBrNcYk2hjQajUaj0Wg0Gs1xiTaGNBqNRqPRaDQazXGJNoY0Go1Go9FoNBrNcYk2hjQajUaj0Wg0Gs1xiTaGNBqNRqPRaDQazXGJNoY0Go1Go9FoNBrNcYk2hjQajUaj0Wg0Gs1xiTaGNBqNRqPRaDQazXGJNoY0Go1Go9FoNBrNcYk2hjQajUaj0Wg0Gs1xiTaGNBqNRqPRaDQazXGJNoY0Go1Go9FoNBrNcYk2hjQajUaj0Wg0Gs1xiZBSyrEbNRqNRqPR1YNGozmWEUKM3aQ5DjkmjKFj4BY0Go3moDnUFbvWrRqN5ljmUOtMzdHJUW8MSSl1ha3RaDSAYRw6z+dS3aobDBqN5liiVLdp/aY56o0htEGk0Wg0h7xSLxQK5HI5bNsmEAiM3a3RaDRHLa7rAmBZFpFIZOxuzXHGUWsMSSkRQjAyMsLOnTvp7e0tbtdoNJrjCcMwiMfjzJkzh7KysrG73xSO42AYBs8//zy///3vWb16NbZt4ziO1q8ajeaoxu80EkJQU1PDOeecw+23345lWcV2peb446g0hvyRIMMw2LhxI/fccw/PP/88hmHoylqj0RwX+DoQr5ezsbGRL3zhCyxYsAAhxAFX7LZtY5omv//97/nRj37Etm3bOO+887BtW+tXjUZzVCOlJBgM0tnZSWdnJwsXLuQHP/gBpmkesM7UHP0ctcaQ67qYpsmqVav48pe/zK5duzj33HOJxWLF4U+NRqM5VvGNoeHhYVavXs3w8DA/+clPOPXUUw/KGCoUCliWxX333cc999xDoVDgS1/6ktarGo3mqEdKiWVZrFu3jj//+c8EAgF+8YtfFDvTD0Rnao5+jhljKBaL8U//9E/U1NQUK20t1BqN5ljFr7j37NnDD3/4Q5588knuvvtuli9fPmr/m6XUGPr5z39OIpHg3nvvHZtNo9Fojjp8vfj8889z77330t/fzy9/+cuD6kDSHP0c9cbQCy+8wJe//GVqamr42te+RnV1tRZojUZzzOOr7p07d/K9732PBx54gHvuuYfTTjutuP9A9GCpMXTvvfeSSCT42c9+NjabRqPRHFVIKXEcB9M0eeaZZ7j33nsZGRnRxpCGQxeH9W3GcRzy+Tyu6+I4Dq7r6qSTTjods8lxnKKus217rEo8pBiGoZNOOul0VCfTNEf9rQ0fjc8xYwzhucWVCvnYD0EnnXTS6VhMulLXaDQajebAOGaMIXGI19jQaDQajUaj0Wg0xzbHjDGk0Wg0Go1Go9FoNG8GbQxpNBqNRqPRaDSa4xJtDGk0Go1Go9FoNJrjEm0MaTQajUaj0Wg0muMSbQxpNBqNRqPRaDSa4xJtDGk0Go1Go9FoNJrjEm0MaTQajUaj0Wg0muMSbQxpNBqNRqPRaDSa4xJtDGk0Go1Go9FoNJrjEm0MaTQajUaj0Wg0muMSbQxpNBqNRqPRaDSa4xJtDGk0Go1Go9FoNJrjEm0MaTQajUaj0Wg0muMSbQxpNBqNRqPRaDSa4xJtDGk0Go1Go9FoNJrjEm0MvQmk1OloSEcdUiJdV6cjPB29AnbkM/Yb1unITUcEUoJ0dToaEkeK0Gg0+0YbQ6+DLKmohdDpaEjFd3cYdbCUEnmQJyiWIQTCMHQ6wpMvXNI9uPeuUZQ2rsd+wzoduUm+rc1bzwgSgDB0OhoSwvvQ3z6p0WheDyEPtkX3NiClxHVdTNNk5cqVfPnLX6a6upr/+I//oL6+Htd1EUIgREnL+ACQ6jMGIO9IUnmHnO2OyaU5kjCFIB4yCVuGqrg9I/Zw4BszhnHgfQpuvoCTSmIPDR20caU5TEgQQmCVl2ElEgjLUtsPl2C9QVxX6aJdu3bxne98hz/96U/cc889nHbaaeDJ54HowEKhgGVZ3Hfffdx7770kEgl+8YtfjM12UJR+lwVHMpS1sbWReUQTNAXRoNKtjKkf3xr8M0pkbgRyw+DkxmbSvO2odwQCzCAiVgeGpf4+AH10qLFtG9M0eeaZZ/jpT3/K8PAwv/zlLxFCHLDO1Bz9HPXG0Msvv8y//Mu/EI/H+bd/+zeampoOiTHkq92CI9kzmKW5L0PnSJ6c7b7FFYDmjSIB0xBURQJMrQoztSpMWdg65JW24zjkcjkcxyEejx+wQZTeuYvhNWtJbd5CYXBI95wdqUhl+AQqK4jPnUPZSScSmTpF7TsIHXOwHM3GEEA679A6lGNHb4buZB5HG0NHLBIImAbVMYtpVRFm1kQJmEq23ryEHQiebNhZ3LYXcDvXIFMdnjHkN741RwYlEmEGEWWTMRpPRVTPRoTKXpvnLUYbQ5rxOOqNoU2bNvH5z38ey7L48pe/zMyZM3EcB8MwDlio/QcipWRbT4ZVu4fZ2JViIFPAa39ojkgkCIgGTKZWRVgyKcEpTWWEA8YhVb35fJ5Nmzaxc+dOTjvtNKqrq4vy9roy531umZbddD/wJ3of+Qvp5p24udzb2rDW7Bu/qWWEQkRnTKNmxXnUX3UFoQkNCNN8297b0WoMSSBnu2zpTrN69xCbutMks7and9/89WreGoSAeMhkenWEM6ZVMK8uStA0VIf/2MyHFCUZMjeM2/4izrof43avg9yQNydlbx7NkYInEUIgQhUYU87BnH01xoRTIJjwdh9eqdkX2hjSjMeb784+wggGg1iWheM42LY9dvebZq8hBMM5h6ebB3lh9xCdI3k9b+iITwKBIJlzeLUzyeM7BmgZyOK48pDMH/L7DaSUvPjii3zrW9/iT3/6EwMDA9i2/fpubp5bnZvP0/OnP9N5/28YXvsKbj6PMM2iMaXTkZUQak6Xm80ysnYd7b/8Fb0P/wU3m1WK4vXeu6aIVP0VdAzneG7nEKv3jDCYtkue99hvWqcjJQEMZmxeaU/y58199KYKRdfGw/4FOHlk31bsl76H0/xnSPd6nV/+BY4zV0WntzHtFRqZ6cbZdB/O1t/hDuxQ71PrTM0RxlFvDEmvgVlsuBwCpJQ4rmRzV4qtPWlytlv0k9Yc+QRMAwNB53CeZ5oHKDiHVvGapkkul2PVqlV89rOf5bHHHmN4eLg4YjkufrAEKcm0ttL7l8fIdXZgRqNqcr6uHI5spERYFkYwSKGvn877f0OupxfpOMX9mjeAp6Jfbh1he28a25GELOPwN6Y1h4SgKRDAtt406zuTpPLO4e0Q8EZ+ZKobt/VZ3N2PI4IxMINjc2qOVAJRkC5u+wu47S+AdLRro+aIQ7fwx0XgSMnO/iwZ20VKoT/bowjpucu5ErqTBXK2i/RU76F4j1JKTNMkGAzS09PDpz/9aX72s5+xZ88e8OYU7Qtp22qO0MAA0nFV79nhakhoDi2uC97csFxnN9nWNtxcvtgho9k//hPK2y59qQJ5x8UwQH2dmqMB3+6REnb3Z8kWXK9he2g6IveFzPQhB5sReOHstMwcPTgOmCFkphc5tFsFv9D1nuYIQxtD4yA8pZ8rOPp7PYqRSGwXb2L2oX2RfgPYcRxaW1v5wQ9+wL333suWLVsQQuA4zvgNZAlOOqNHFI5mPFdHmc8ji3MWNG8UR6pvUj+5o5u8I986Q9a1VbCEw2tzaQ4Lnjujkwc7DW5h9D6N5ghAG0NjKNW16jPVH+tRzQFWnr7L275S6WiA67ps3bqVX/3qV/z85z9n/fr1CG8y5msNoiNt9ULNASEPvYF93KBl/5jgLf8E3spzaQ498u0QGo3mjaGNIY1mDOMbMRTnpBmGUYweV5pvw4YNRYNow4YNowJ67M0lDthA02g0Go1Go9EcWrQxpNGUIKWkUCjQ399PV1cXnZ2dr0nd3d0kk8lRwRKkF8Rjx44d/OxnP+MHP/gBzc3NZLNZlW8c40qj0Wg0Go1G8/aijSGNxsN3jevs7OT+++/ne9/7HnfeeSff+c53RqVvfetbPPLII+Tz+VHH+qNEXV1d3H333Xz1q19l8+bNFArKR3q80SaNRqPRaDRHBrqePj7RxpBGU2LMuK5La2srv/jFL/jpT3/K7373Ox544AH+8Ic/8Ic//IE//vGPPPjgg6xbt+41Ro7/K4Qgl8vx5z//mZaWlr1Gk1aymoPAl9Hx0hvNNzavRqPRHItIrz53HGdU8reVzv0t3Tf2mFIPEM2xizaGNJoxSClJJpOce+65fOlLX+Kb3/wm3/jGN/jmN7/JN7/5Tb7+9a/znve8h3A4DGPmEgEEAgFmzpzJHXfcwYknnviafBrNgTB2MdjSuWv7yjNe0mg0mmOdsXrST5ZlYZomlmVhWRZCCEzTfE2+8fSr5thFG0MazRh85Td9+nTOOussVqxYwQUXXMAFF1zA+eefz4oVK5g7dy6WZRWP8Q2hSCTCwoULuf3227n22muZOHHi3nxaqWoOANu2yeVy5PN5CoUC+Xy+mAqFwqheTtu2R+0rTX4ZGo1Gcyzjd2i2trayZ88e2tvbaWtrG5V6enpIJpNkMpnX7PNTa2srra2tZLPZsafQHGNoY0ijGcP+XIrG6133t8XjcRYvXswHPvAB3v/+9zNhwgQCgUAxz1GFEIfeePPLPNTlvlmOhGt4A/jyl8lk2LhxI7/97W/59a9/zW9+85ti+u1vf8vDDz/Mtm3bSCaTPP7446P2+/nvu+8+nnrqKdrb2/cp2xqNRnO04+s3Xx/+7Gc/46677uLuu+/mrrvu4kc/+hF33XUXf/jDH9i0aRPNzc3FbX66++67ufvuu/nJT37CK6+8Qjqd1jrzGEfIo/AN+76gpmmyfft2Pve5zyGl5Etf+hJz5szBcZyDGt6UErK2yy/XdPJS6wjZgsQyR4dR1hy5CAGuBENAY3mYj50+kcqoGg6H8SNb+wrUcRxWrVrF7bffzhVXXMHHPvYxamtrcV23aPQUCgXuvvtuPv3pTzMyMoJpmoTDYU455RQ++MEPcu211xKPx5FehDkh1GrbUkpkvkDXH/9Iy3f+m1xHJ8Kyjsy5RP41HeA3dMwiBLguwrSY/52vU75sKWYspnZ5o4OHCl/fDAwM8Ic//IEf/vCHtLS0YBhGcZ/wFvgdHh4mm81SVVVFMBgcVY5pmgQCAS6++GLe//73s2zZsuKx41EoFLAsi/vuu497772XRCLBL37xi7HZ3jS+lGfzDj9e3cGrXSnytotpiCPyE9C8FoHSrY6UnNSY4F2LaplQFlL7xheng0O6IARux0s4a36Is+V+CJR50vRmhEa8yfyaQ46UmHOuxjrjs4hYffHdjl8jHzh++7C/v59vfOMb/OY3v6G5ubk4H2hsXsbRhUIIQqEQTU1NfO5zn+Piiy+mpqZm3LyaY4NDW3trNMcQpUrPN2pKk29wSyk56aST+PjHP8773vc+4vE4ruselEH+uvijG/sqv3T/vvLsA+m6uNksTiqF66+V9Hpl7Wu7j5S4uZwqM5cbu/etQ0qcTBonlUJ6ATCOVHzZqays5KyzzuKd73wn3d3dRdeNUheQZDKJbduv2e+nadOmcfHFF7N48eJRZWs0xxZ+43qcJA5Hc8f/jvzzjGVf2480joZrfGP49XNtbS0f//jHufzyy6mqqip2aPodn6Wd26Xb/Lp90qRJ3Hbbbbz73e/WhtBxwOHQDhrNMY+vcC3LYsWKFXzpS1/iwgsvJBQKIaXENM2xhxw6pETatkqFAoyzjlFxv5fG7h8Xocq2YjEqTjuVmosvIjyxEQwD6ThgO+p8pWVJiXQc3Hxe5RnvPFIiLIvECQupvuB8EgsXjJ/vLUAEg1SecTrV77iA8JTJyoh7m67ljeBXvk1NTbz3ve/l85//PPF4vDgJeOwkX78iN00T0zQJBoOcffbZ/MM//ANnn332qHluGs0xh7TBLYCbBye3NxVSYGdLRiMOEumC450HQDogC+q3dATKLYCTB9fZu+2IQo10q2e2D/19FGIYBq7rUlNTw4c//GFuueUWKioq9tlJ6dfnfr09f/58PvrRj3LTTTcVR9rHHqM5ttDGkEZzAOTzeUKhEJdeeimf+9znOOWUU4jFYkWlejgJN01i2qc+wawvfp6ZX/gsFWecjhEKqUpNCJxsjvJTlzLlY7cy61++wJS/vo3YnFnKKIJ9NwaEQLouVmUFjR+4nqkf/xjxefMwAgGEaWJVlBGoqkIEAgjDQBYKWBUV1F58EbP/5Z+ovmAFRiSCdEY3OKTrIgIBqi9YwZTbbqXmkneO6pV7KzHjMSbd/EGm/s3tlJ98kuopZD/P5AjAN7onTpzIe9/7Xm699VYaGhqKz7C0l7P0uUYiEZYsWcJnPvMZTj75ZKLRaLE8jeaYQgLCwFz4AQLn/AuBFf9J4B3fJPCOb2Gd+xXMkz6MUXMCmEHV6D/gb0CAdBB1J2Cd+VkCZ38ZEWuAQAyClRAsUyNQUoIQmCd9GOucf8aYdRkI0zM2DvTchxAh1ENz8phTz8U68x8x51+HiE9AOvnDNIr21uJ3DE2ZMoVrrrmGm2++mXg8Pmp/Kb778bx587juuut497vfTSKRGNd40hx7HP0Sr9G8xbiuy4QJE7j88su5/fbbWb58+X6V7CFDqhSorKT6HedTe8lF1F56MWWLT8KqqEA6jjLGTIPyJUuoeedF1F58EVVnnUGwvh45zgjSKKQaxTECAcKTJhKbMxurvAykJDShgdorLmfizR8kVF8PQuA6NkYoSHhyE+XLlxGeNBFhehW+/wyEGnkRhkGooYHozOmE6uvUhK5Sxj6z8f4eu81Hyr33NTZP6XFSIkyLcFMT0RnTsSrKX5v/CEUIQTgcZsqUKXzwgx/ksssuY9KkScV9pfkAYrEYixcv5q/+6q84/fTTKSsrK+bRaI49lM4xJp6KMfMyjCkrEPWLEfUnYU67AHPB9RgL34/RsGS0bvKPVRvGGCpj/y7RZ+FKRP1ijAnLwAxhTDwda9GNmFMvACuiRqgQiOq5GA1LEWVTvPP5xtBYvWOM2ba/a9oXXgUxLuNslxIpHYg3qmusnA2BqDd6tr+m4dhr2te2txe/YzIYDDJ37lyuu+46brjhhmKnZWke4bnPzZw5k/e85z1cffXV4+pXzbHL/iReo9GMgxCCE044gZtuuokVK1YQCvkTiA//qBCAME0CZWUY4TCBykqiU6cQrKstusOZ8TixWTMJ1dVhRqOYiQSGF9XujSC9QA++kSEdh2BdHTXnn0vD1VcSqKn2fKsN3GyO1PYd9D3xFOmdu5COrQydsUaXP3LhODj5PLJg7zXOpFSjWqU4TnG/9K4Bp8TVREqk6yIdZ++oyJi/AXBdVY5flmPjZnPq/sae8wjGly3LsliwYAHvf//7ecc73sGECRPA69X084RCIRYuXMj73vc+rrrqquKIkF+ORnNMIoFAHBEqR6Z7cLc/hLvlt7h7nkWEyjCnX4gx5VxEqHKv65p01YHS9VzdnL2N+uI2f7+nRxDIVDfu7qdwWh6D3CBG/cmYc67GmHQawgwV3eJk58u4ux5H9m9T5Qg1sqRSqf4b68rsGU7S9gwrz9Dxr3dc9meQjNkuASEQhoUc3IW7+2lkzwZkPqkMIdfX/959F88rAP+5lD47/xqPLHydGI1GWbBgAR/5yEe48MILqaqqGmUImabJhAkTuOaaa7jmmmuYM2fOqOM1xz7aGNJo3iC+UgwGg8yaNYvTTjtt1KTLtwzPOLCHh5G5HKGGesKNE1R16UpCdXUE62uRroOTSo0yHAJVlUSnTyM8aSJGKKRGkyyLyNQpRGfOIFBVpSpB01SjPEisygrCExsJVFVhxqLEZkwnOmsGgeoq3FyO1KYt9P7pz6S3bUcWbPUsxhpD/vMzDIxAgEBVJbGZM4jNnUN40kQVkU16la2UGJEI4YmNxObMJj5ntrrecBi8HjxhWQQqKojOmE58/lzi8+YSnTaVQGUlwlB+3xI1RyhUX0d01kxic+cQmTQJIxQEc2xP7JGP8Nw+pJScccYZfOADH+CCCy6gvLy8uN+yLGbNmsW73vUu3vve9xLzIt1pVw/NcYG0QTrInvU4L38X+4X/wn72K7gdL0IgjFE9G1E+GZwCIlKDqJqNUbMQUTULEa1Vrmy+4RGIIhITETXzMGoXIipmIEIJMCxkshN312M4zX+GUAUiPgHCFYhYHaJ6DqJiBggTt30Vzs6Hkb0bPeMBhBlExCcgqudg1MxHlE9T5QpUnlA5omK6d75yRKIJUT0XUTkLEa0BzNF2h5RgmBCpQlTPQyQmgWGpsgIxRPkURPUcMMNe3gAiVo+onAmRGuTAdpydf8btWgO5YXV9wQpE5UyM2gUY1XMR8UbveBeEiYjWIqpmYdQsQFTORISrjlh96hs04XCYhQsX8qlPfYrTTz+dioqKos6sqKjgyiuv5KabbmLevHmjjtMcH5hf/OIXvzh249GAlBLDMOjv7+exxx4DYMWKFdTU1BQbpwcjyLYrebUzScdwHtsFY6xbj+aIRYhixxeJsMWypjIigZJJ5mMPKEFKSVtbGw899BBz585l6dKlxQblWHk6IDlzXFJbtzK06kWcZPKAwjGHJjRQd9nF2MkkwjQRVoBsWzsja9eBbVOxfCmVZ56ubtRxkLbD4PMvMLLmFSZc+y6abv0IsdmzSG3fTq61jdDERmb+42eov/wynFSKzK7d1F18IaH6Onoe+j/ic2Yz4d3XkFgwD8OyqDz7TKrOOJ1saxvOSJL6yy5h6l9/DDebJbV9B24muzdkuFATdI1wmKqzTic6cyauYxNpamLqX/8VDe+6itj8eTiZDOldLeA4CMuk5h3nM+lDN9P0oZupu+JSYgvmYw+PkO/qxklnCDdNov6qy5n2tx+n8f3XU3/lZZQvW4oRjZDr6MAeGATXpfzUpUz8wPuY/P8+RMO111C+bCnhxgaEaTDw/EqSGzapOU1v9B16hp4wDGovuYjwxIkYb/EEW+EZhFOnTqW2tpbu7m42b96MlJJJkyZx++23c8MNN1BZWVlcguDN4E8y3rhxI+vWrSMUCvGud71rbLYDxnYka9uTdKcKOK7EeIuem+bgEXtNBRoSIebXx0iEVFCOw/MalQ6RyQ5k58vIvo1gqpH41yAMzFmXYVRMQfZvxW19VhlHuWGMmvkYFdPByeL2bobsENaSj2MuuR1z0Qcwp6yAaB0y2QGZLjCCGFNWYC3+KNYpt2EteB9G09mQT8Lwboy6Ewmc8Vms2VdjTFmB0bgEESpDJCZjTDsfUTUfd8/TBJb/LeaC65UB1fkSSBtz4hmYJ92KdcpHMee/D6NxOcIK4w7tQmb7MKeuwFpyO+asK8CKYp34IawTb8KYegEiWIYc3gOZXmXw+KM4wTKMqRcQPO8riLImZPc6yPRiNC4jsOyTWAuvR7avwk22YZQ1YZ7wAawF70MmOzBq5mEtvR0jVocc2gVIzEU3Yy39BOaiD2LOuhyRmIxMdSMHmzGq52MuupnAktsxT/gARtOZiFAFbt9WsDN7K99xMGrmYUw+CxGMF9/t/mvkQ0NpPT1lyhTq6+vZvXs3O3fupKysjHPPPZd///d/p6mpadQou+b44c23xDQaDaIktPZbi1SdgkLgZvNkWtvUHJ+JjViJGFK6xObMxrAs8h1d5Ht6vcPU6JAZixKsrsIqL8OwAsoQME0CFRUEa2q8NXP2djsK0yTb3kFq23YKQ0NIx2X4xZcYeO55sm3tCNPASiQI1tViJhLqeQivMjQM9esl6bqY0QjxWbMoX7aMbHsnrm1TfsrJ1LzjfKJTJmOnklRfdAGTbrmR6MzppLbvILl5KxXLljD905+i7OQTMYJBlcJh0lu30/vIX0hu206ovp76Ky+n7srLkLZNfMF8Jn/0I9Scfz52MsXg8y+Q7+1RwSY8o+ZopLSiPuWUU/ibv/kbzjvvPGpra/nUpz7FlVdeWYyc9GYNIY3m2MBQozzCVN+6uzfKmyifinX6ZzDmXQ25QWTbKqSdwZx7DYGz/xnCNRiNp2HOezdG3UI1ctL8J8gOIkIVaoTE8kZ34g3InleVgWJnkakO5XLW8YIyUqI1iLKJiFAczCBGw1Kss7+AMfkM5HArsnMNhBKYJ38Ya9EtyoVPBBCRKozquZjz3gPCQqYHEJEajGkXYEx7h3Kr8w0JYamRrkIGEanFqF2EiNSA5Y1s1S6EaB1UzUEIExGpRpRPBSsKyS5lxEXr1EhYbALm1AuxTrwRYVq4rc/idq8D10ZEaxCRWgJnfh5z7tXI3DCy4yUQJuaC92EtvAERrijOlzrSEJ47nOM4LF++nFtvvZX3v//9XHLJJfzbv/0b1dXVo/Jqji+0MaTRHEX4nW4CgZvPkd7ejD0yQqC6muCEBkQgQOKEBTipFLmuLpxU2jtQNQT8+TRCGF7PnF+oMW79JawAI+s30P/UM2TbOnDzedp/eT+td/2E5IaNaj6OoYI2gGd0FWxkPo+by+P6obilBGHg5nKMrH+V5v/4T7Z98ct0/vYP5Ht6CJQllIEWjVB70YUE62rpe/xJmv/j67R8+076HnuCUG0N8QULCNRUk21ro+ePD7LzG99m1399mx3/+lUGnl9JoLyc2Jw5WJWVVJ59BpHJkxl86WVavv09mv/jv9jz3z8k19EJrprzdLTiV9a+68fnPvc5vva1r3HppZfS0NBQDLut0RyXOHlkbhCZHQArDIlGCCbAimJUzMCYugLZtxXnxe9SePqLOC/9N7J7PaJ6NkbjqRgTTkEkJuL2bqTw/H9iP/1V7Oe+jLPrEVWmMEG6yhV562+RnWuQuRHc3g3Ya3+AveEXYKeV3nNdpW/CNRizLkeUNeFuexB75dcoPPtlnPU/BcCcdZlyOTMtcB1kphdnw88pPPU57JX/iezdgIhUIhITvHILKmy4a0MhiUy2IpNtEK+DUJlym4vWIcIVCDOIUTFNBXeI1iEitZBPeiNBAoSJdB1EpBKjdj7CsHBe+TH2M1/DfubfsNf+ENm3CbNxGaJmHrJrPfZL36fwzL/ibPgFGCbG1PMRiSY1YoWaW3Wk4XdiRiIRzjzzTP7u7/6OO+64gylTpmCaph4ROo455mtLf06HRnNM4Y1sZHbtojAwSKCygsiUyZhlZUSmTSPb3kmuQxkvoxjla45XYflGUUlUNh/DwEmmKAwOqsVSpUu+q4tseztOMjk6r3TBMrHKEgRqagjWVqs5PF6EOSEE0rbJdXUxtPpFkq+sI7OjGXtElSMsi1BNDfF5c3FSaZLrXyW5bj2pLVsZWvkC0nEIT5pIoKIcZ2SEdPNO0tu2k+voJNOyh8LAABgGViyKlYiTOGEhRjhMauMmhl58iUxLC+nmnTip9DGhE/yKu6ysjOXLl3PZZZfR1NREwAuWoSt1zXGJFIj4BIxJZ2FOXYG58AaMhpPBySEz/WoEJFyB274Kt+tlZN9m3K6XcTteRgSiiLpFiHA5wjAQVhQRKgc7jdv1CnJwp3IFEwIpXdXoT3dDfsQzSlLIkTZIdexdc0h6Sw1EazAmLEW6Nm7b87jdryD7NuG2rUQO7kIkJiDKmry5OTYyn0J2v4Lb+TJuz3pkZkDNDTID6jdchYjUImL1EIgjs4O4vZuUG6E3f4lIlXokdhajcqYaFUpMhGAcmepCZvu93jVPVwihyhYmRKvBtJDJdmTvBmRuANGwGBGMqWfRtVZdV8fLkO5Wc7GidWAEivOjjkR8vVlVVcWCBQtYuHAhlmVpQ+g455g3hnze6saP7yl0NHxa+7tWf5/mSEMFEci2tlHo78cqKyM6cyaRyZMIVFSQ2bWTfFfPayul/b7QcbZLibBMtdaQoYIOGKEgZjis5gWVZrUdrIpyKs48nQnXvZsJ111Lw1WXK9c74RldUkV4E4hRx0tXAgKrogKrrAxhmsTmzqHuisuovfQSIlOmIAyDQHUVZkSdOzyxkarzzqHh2muY8O6ric+dgzAtpCsxgiFCDQ0AFIaGcPN5zGgUI/TGo+odag6XDhJe+Njy8vKiW9xbUakfrvt5PfYrwkcYfjtzvMvd13bNwSOq52KeeDPW4o9iLng/IhDDbX0Ot2M1CAnSwR1qQToFsEJIO4NMtYMwMBJNyJF2ZLITUTENa9EHME/6EMbkcxGRqqLwqW9MKOPDsLwXaiGsMFieKy54nU0GIpRAlDWqEZlMr3r5hqVc9ZKtqsxwhSpPyr2GlGF5bn/Fu4NQJebsazAXXI+54P0YTWcCAtn9KgIXEa3DqJjuRdbrRQ7tgYppym2ubJJaSHtoN9LOesaPQBgmMjeMO9CMdPKYMy7GOvlmzLnXIGoWIIJliPJJ6l7iDRjTzsea+y6MiaeCGVSGZFAFmFAGoH+9B8+h1DV+B7mUEtd1cV1Xd5prjm1jKJ/Pk0qlyGQyb7mwS9WOHNURf6Ti7uda/fvQjKZUob7lSPWPCATId/eQ7+3FCIWIzZ5FYuEChGWS2bmLwuDg/gM0+JXV67UspR/6Wt2rdNX8o1GCIUHaNlZFBVVnnUHj+66j8frraHjX1ZhxFYCimN1rBY59dkKIYgjwYE0NdZdewpSP30bT//sQNRdegJ1KIQtqpCs0sZGaS97J5Ns+yqSbPkD9u64mNns2wrLUtZkGVjSCdEtDdLue0fX2MfaeDxV+xV769+E6FyX3cTjPsS+OJp0kvcHW8S53X9uPVQ63TCJKBCMQVRHeYg2Q7cPZ+Rec9T9Ftj0PptcJ488jkt7/3YJyFw4lcLtewd3zLDLdg6hbhLnkYwSWfwpj4nIIxr1OJk9vylJdWBqO2tuE0nnCsBBWSIX1Lu6USGkrdzckGNZeF2ZlLZXk9eY5CgHhCsy571bBHxbdgDH5bDADuP2bka6NKJ+MqFkIgThu32bcrjWIWK2KUBdvVKNkQ7u85Qo8o84IQKZfjVq1v6DmOM2+HGvpX2MueC9G1Ww1KiUExpRzME/6COapn8Jc+H4IxJDZAbVu0evVJwfIoZAdvwzfCBprDB3Kc2iOLvbTUjp68RsFHR0drF27lvXr1yOlxBm7BslhwNfHtiPJFVwKzuE938HiuJKc7ZItuNjO6FEEV0LelmQLLm9zG/KIwnVdHMfB8RY5PdwyNRbpyZhhmjipFNnWNtxcjtisGcQXzEdKSWZPG04qpfzPx0Mo40OlNxkIwu/uHrVNzS+y+wfof/wp2u/9OW0/+Tntv/hf7OER77DXP4d0VY9iYWCAwZWr6Pnjn+h96P/o/M3vaP/ZL+n+45+wR0aouWAFk2/9CJFJE+n43/vZ8a9fpe/xJ3CzWQzLAs9gE36QCy+p/48961tDqQFxsDIzthJnnOd7KM6zP3w9ezjPMRZXSvKOp6/cI9eakCpwJNmCulZnzLVKCbmCS96WuMeJcrVtm0KhUKyHD7ncSF83Sdxdf6Hw+/eTv/8q8g/ciP3sv+DseRpZSBUNjKIuEHiLjPrzHsFNdmCv+zH2U1/EWf9z5Egbou4EzFlXYJRPUYbTPhWJV+hrdqsRqdELmir9q0J6o1ztRs238Z+RVEl4BlG2D2fDvTiv3I3zyj24u59AZvog2Q2ugyhrQlTPUvM0O1/G7XxRhcyuXYSINkBmCDnc5j0Kv2wD6eRxu9ZiP/5Z7Ge/irvrSTACmFPOw5j+TnAK6ja61+M2/wl32+9xtv4OZ91PcF65C9m/ReURxkF/m1LKosz4fx+MzPjHl6ZSg8jH16sHw8Eer3nrOSaNIZ+RkRH++Mc/8i//8i+89NJLReE/XIIqhMB2JbGgwQmNcd45r5qTGuN+/K/X6sa3GSlhUnmIi+ZUcdmCGhY0xAmYexv3iZDJGdPKuXxBDXXxgLp+KY+4+3ir8J9LLpdj1apV3HfffUh/LsxBKuoDwpuDk9nZQr6rm0jTZCqXn0p29x7yPT3Igq0iuo0+CJBI28bJZLFTaeyRYbVg6xtCInM53HxOLYRacs8iYGEPDNL7l0fZ88O72fOju2j/n/9Vc4te79l4z9BJpZC2jZvL0fvwI+z8+jfZ+fVv0vLt79LyrTvpvO/XuNkckclNuJkMXX98kLZ7f87Ak0+Ta+9Qi74KgXRsCoNDGIEAprfoqJvO4GSySNtbvPUNGGeHAulV6q+88godHR3kvXlcpRXwm8H1QoEbhkEmk2HPnj2sWrWKJ598kg0bNtDb24tt28Vohwd6nvHw5by1tZVVq1YxPDw8avvhQt2HpDxssbSpjEvn1zCjOoppCtVZPvaAtwnVVpVYhqCpMsSVC2u5YmEtM2oiBC0D19OfsZDJO+ZWc86MCuoSQbX9LZLHtxJfLgqFAq+88gr33nsvr7766qh9hwXXAScLdlY1zs0AIhBRgRXSfd6cmFqElFBIIwwLojVqjaJUO6KQhOwAbvvz2C99RwUwyI9AogGCZftu6LuOd858ic4TKthCPoVM9UG4EqwYON6IkBVVgQeEhcwOIu3cfnSTZwxlBnA2/A/2y9/Hful7uDv/AtkBZLoLmezEqJiOUTNfGTi9m2GoFVnIYjQuRZRNRGZ7kSN7PBc8z1AXKEPMziJTnThbf4397Jdx9zwDwRjEapHpfuVi2PEizsv3YD/zn9grv4698mvYK7+u1lPyjaF9PqT948uE4zi8+OKL/PjHP6ajo6MoL29WZvxj/Hq6ra2Nhx9+mB/+8If813/9F9/5znf43//9X9avX086nS4GnnmzelN67cvu7m4KhcIBX6/m7WFsS+mYwBdA0zRJp9OsXLmSL37xizzyyCMMDw8XhfZQIwBbSiJBk1m1EU6fWs78hphyh9jH9yAAQ4AhBEaxp750n9q+r2NK97ymnNJj/PxeJ7n//wnlIc6aXsHZ0yu4YHYVtbGApzSUMbSkKcFZ0yuoiKgRhhL1rhpkxVRyMg91PcVO+eJ9lN6X2re3DL+Y0rLHKfptxTRNtmzZwve//32+8Y1vMDQ0VFR4b43ik+C4aiFVINveTra9HSOoFjNNbdpCoX9AGStI5QrhSoQhkHYB6bgEKquILZhH4qRFVJ13LlZFxV6XMtQIjTreO5+PYRCa2EiwtlYZGYahjvOvR/q1qpdKZFe5qe09h9rmudwJkK5DrrOL5KYtWIkElWefSfmpS7HKywlUV1N+2jLiC+djJhLevKAgwZpqrPJygnV1WOXlyk3OLuCkM6S2bMXN5UicsJDyUxYTrK8jNncOVmUF+Oc9zPi6KJ/P89hjj/Ef//EfPPPMM9i2Wpz2zeohv1Lftm0bP/7xj/m7v/s7PvKRj/DJT36ST3/609x222381V/9FV/60pf485//TCaTOaTGut+Z1NzczE9/+lO+/OUv09vbe9hHiQTgSEiELBZOiHPGtHImV4YwDDGuIVGqI0t1zdh9Y3VLqW4sbnuNbh1/nxDgl2gZ0JAIcPaMCs6eUcGpk8upiQdwXaXbYkGDM6eVc+qUMqqjAUoH5f1r2Kv/9n+dqs5QefZuV/v2llPyVb7FutWXiXw+z29/+1vuuusuVq1adUjlsoh0PZdeb3RFCNXMkVIZQNlB5MAOEBbm9Isw6herRU8bTsGcfA7SKeC2PodINKpAColJauHTcBVCWMhcEum7tElXRX0r6kepXOgSkxDhyr1zZ3DBtZHpHtzONSry2pTz1AKp5dMxms5CVM9FDu1CDjarKHTC2BuAofTeZEkH1KiXp4wkmR9Wxo8VgVC5ijI3uENFmUv3IBL1qqjhdhUVz/DWg5OOMmJCFRh1JyJqFqggDJFKRDCqjLxUF7LzRXBtjKnnY0w+E1E+EcLlavHaKeerAArFD+TgpMs0TTo6Ovj1r3/Nl770JVpaWrBt+03JTKnsbd68ma9//evcdtttfOELX+Db3/42P/zhD/n+97/PV7/6VT72sY/xuc99jocffpiBgYGifL4R/GvK5XL8/ve/58c//jGbNm0atV9zZHNMGENCCPL5POm0F0Z4DIODgzz11FN8+9vf5tFHH6WnpwcO0XDoa5CqcowGTSoiFpHAvh+xlGpx15wtydouWdslb3suFd7CrznbJe+4o4wp5SoiydtusadRSsg7Kn/Odik4yrVNeOrUdpR7ieNK5cLnnSdoGJSHA9TEA8ysidBUESZsGThSYhqCeNCkMmoRMEtqU+8aCt651DXKUa50Eig46jr9c2ZtdU22S/G+HFfdh1+GIyVSQsFRzyNne+4wRxBCCLLZLBs3buSnP/0pP/3pT2lrazvsDUIfYRiY0QhGKIQRDFDo6yPf2YV01WKgqW1bcZIptSCraanRIdNAmBaZ3XvI9/URntzEhPe8m6mf+GuqL7yAQGWFWrsnoHzCzVBITZQV6qUXhofJdXRihMM0vPtqptx2K2WnnKwCKwgDYQhEwFJuaYah/m9ZKpKcarGBUEETjJBapBRUBDlhmMVkDw3T/cBDZFrbqFi6hCkf+yjTP/N3TP/7v2XyX/0/ypeegmvbZHa1YKeSlC8+We277VbKTjwBMxzGCAaRtk3fE0+R2b2H+Nw5TLzpA0z75MdpvP46ApUVmOHQ3nDgbwGu6zI4OMjjjz/OvffeyxNPPEE6nX5TBpEsMaruvPNOvv/97/PrX/+axx57jBdeeIEXX3yRZ599lj/96U/8/Oc/57vf/S7f+973aGlpKY5GHaxs+sdns1mam5v59a9/zV133cWOHTvI5/PIw9TRhKfjDCGIBUyqogFCllHUb2NxpCRvey7AY/SIv8/Xn6X4urFU5zievvV1dMFROgqvye3rXceVFByXnKcLQ5ZBVdSiOmoxty5KY1mQgKmMN9MQlEdMEiETy+tJ8puOjuu5Avq63N17nb6uV7p17znztosjZbHOsB11D6X62ZFS1R0lz+St9OI2DIP29nYeeOABfvzjH/PUU08VDbmDlUsfYYW9eS3eGmf4PWwSDBOZH0F2rcXZ8yyiYjrmSR/GOv0zWItuVKG0Wx7HbX0WUbMA68SbsU77NNZpd2DOuRJpZ9W6OslOhBkEM1hs+LsjbcjcEEbNfKyTb8U86VZlRJkhhBUFM4jM9OHs+BNycBfGpNOxlv411vK/w5x9BRRSOJt/jRxqUfJsKv2rjCJ/cVJDzeuxgl5dbCpjxrC8IAiAnUH2bVZr/bg2MtOHTHdDbli5+gkD8sMq2l0hpY7zFm+VroOI1mBMvwBr2cexzvw85pKPISpnIYdacPc8q0aE9jyNSEzEXHQD1hn/QOCMz2Gd+inMOVcjIv5aPXIfX+YbRwiB4zh0dHTwhz/8gW9/+9usX7+ebDb7hvSML1OpVIrnnnuOO++8kx//+Mc88sgjrFmzhq1bt9Lc3Mz27dvZtGkTzz33HPfffz933nknv/nNb+jo6BhVzv7wjSHHcdi9ezf33Xcfv/rVr9iwYcOoPJojF/OLX/ziF8duPBqQXm9gMpnkiSeeIJVKsWzZMiZPnozrraDe19fHqlWrWL16NYVCgR07dpBMJolGo9TU1JBIJMD76MZiu5JXO5N0DOexXTDGG/oYg/Dc5BJhi2lVESaUhegYzrOuI6l698YUYQgoC1tURQNUxwJURCyiAUMtS4CkPBKgNh4gGjDJ2ar/yZWSSMCkOhqgLGwVK+qgaVAZsaiJBamIWgQtQcGVOC4ETEFFxKIyqianR4Mm1bEAhhDUxYPMqosiUJV3Ku/SNZJnMGNTHraYXx+jIhLgxT3D9KYKnl4WBEyD6liA6niAirAyllzvfKDOWRUNUBayMIUgHDCojwdxpCQWNKmKBYgFTVyJKicaIBIwinq/0rv3spCK/V+cH/D6rwEhvKwCEmGLZU1lRAJ758XsrwjpDaM/9NBDzJ07l6VLlxKLqQAAfsXtui5r167l4Ycfpr29nd27dxMKhaipqaG8vHzveca+cNREgtTWrQytehEnmdx/gIOxePW6VVFOfO4ccu0dDD63klx3N1ZZGcGqSnJdXfT86WEyLbsJ1dYSrK/DGRlh6KU15Ns7cAsFjEgYMxrBDIcxg0HSO3fipjMUevsYWbeeTEsLifnzcDIZBp59juyeVmQ+r8JWx2NY0ShGJExqy1byPb0Eq6uxEnGG167zRmOy3kvwZ4+rYA/RaVMxgkFSW7cxtOpFpG0TnjSRYFUl+e4eRta9Sq6tzRvVsjGCQQJVVYTq6ghUlOGk0wy/sp709h1qPpQVwErECdXXg5TYI0kK/QNk9+xh4JnnyLV3KgMvFCJQWUGgvEzl6e3DHhxkaNWLpLbvUNc33rsaD+++hGFQe8lFhCdOxAgq425/Zdi2zapVq3juuefYsmULQ0NDlJeXM3HixNcN6+pXoslkkldeeYXvfve7/PGPf2T79u1Fgyoej1NVVUWhUCCXyzE4OEhLSwtbtmzBsiwmT55MIpF4QwsF+/pz48aNrFu3jlAoxLve9a7iPiEELS0tPPfcc7zyyivs3LkTwzCorq6msrLydSPa2Y5kbXuS7lQBx5UY+8hXihACW0oqIhYzaiLUJQJs6c6wezCL7SjjorSpEQuaVHp6tTJiEQ+ZCK+DJhY0qY4FSXj60/Hmv/t6sjqqdGPOUbIbtgwqoxa18SCVEQvLFDiergtagmrvPAVHUh6xKAubhC2TykiAExsTJPMOsZDJUMamM5knmXMoC1ksm1xOtuCyqStFV7Lg3YMkbCn9WBMLUB42CRoGBVfpfyklIUsZg+VhC0dCRcSiIqJkKBIwqI0ro8tAUBMLUBUNELYM1Tkm1LbqWIB4SDWg38y8VlHSzG1IhJhfHyMRUl4D+3uNUko6Ojp46KGH2Lx5Mx0dHQwPD1NXV0ddXd1+ZEZVCDLZgex8Gdm3URkKr0EAAqN+ESCRXa/gdq0BN1/S52t4IauTkOlDWCFEpAoRq1VubN2v4Gy+H9mzHqNqFqJqNqJ8CiJaA24B2bYad/uDyOFdiGitCoOd6cVpfhhyQwgjgAjGEcE4SInbtlIFHZCOFyL7RWSqC6SLCERUGZFKZG4YZ/dTuFt/A6lOFfEtVguZPty2FyDVCYE4RsVUZbT0bUS2rVSG0SijwxvhCUQQkWpkshPZthLZvQ6QiGi9Or5/K7LtBeTADhXUoWI6hBJqRGmkFRGuwKhdqK4jEEcO71FGYssTyFQnZIfAMBHBBCJWp8J1C0ONQHW9ooytfdSyRs08jMlnqWfkvdvx8grPQN66dStPPvkkzc3NbN26FSEElZWVVFRUEAopOXitzOw1TqSUvPjii/zsZz/j/vvvp7W1tTjXt76+nilTplBWVsbg4CB4OnbXrl309PQQj8eZM2cOlhf1dLzz+Pg62rZtnnvuOR599FF27NiB4zjU1NRQX69G5HidcjRvH0eVMeQLnP8rvBGhJ554gmQyyamnnsq0adOKlXlvby+rV69m9erVRT/Qbdu20dfXRyKRoKmpiag3n2CsgB6MMVQWtphRHWFieYiukTyvtL/WGJJALGhw0sQEiyeVsXBCnNm1qvcQASM5h7l1UZZPKac+EaJ1KEvekdguTK+OsGxyGdOqI3QM58kWXGbWRDhlUhknT0owqzZKrVc5D2Zt4iGLExvjLJ6UIGAKZlZHOGligrwjiQZNZtZEyHiTfONhk66RPF3DOeIhk0UTE1RFLV7cM6KMIVSFO706wtLJZZzYGGdWbZTqWAAXGM7a5LxGwbLJZcyvj5IIWUyuDLN8Shm9qQJNFWGWTEowuTJMwIBTmso4YUKcCWUhQpZBPGRySlMZpzQlmFYdwRKCkZxDOu+8wYbT4TeGXn75Zf7yl7+QzWbp7u5m+/bthEIhJk6cSFlZWVHexsrVQRlDqJuS+QLZPa0Mr1lLtmU3TjaHPTJCesdORta/ysiGjch8Hmnb5Ds6SW7eSmbnLmShgD0yQrZlN6nNWxh5dSP9Tz9Lz4N/IrV1G8mNm0lv3449MECuu4fkqxtJbd6Kk0rjpNNkW9tIbdlKcsMmBp57ntSWrTgjSezhYdI7mklu3ERhYEB1VIy6ZPWXPTJCass2khs2UOjtUy52+Ty59naSm7cqo8u2cdNpUlu3kdq8ldSmzQyvW8fgyhfofvD/SG3YiJNKURgYJLVpC+lmdc99jz3B4MpVjKxbT3rLVnKdnbipNOnt20lv3UZy8xYGX1hFz58fZmTNKyQ3bia1bRv28IiaN/BGEQduDD377LOsWbOGzs5O9uzZQ0dHB5MnT6a2tna/BpHf47hjxw6++93v8pvf/IZkMlk0bKLRKPPmzeP000+no6OjuM8fjVq/fj0zZ86kqalplCzvizdiDDU3N/Pss8/S3NzMwMAAmzdvxrIsGhsbKS8vL17beOc5YGPIlVRFLGbVRmlIhNjanR7XGDIEzKuPsXhSghMb48ytjzG1KkI0aDKQsWkoC7KkqYxZtVGGszYD6QK2C7XxACc1JljYmCBTcOkczhMLmsysjXLKpDIWT0owuzZKRcQiV3AZztpURgMsm1zGKZMSFBzJCRPiTK+KoAYdBSdNTNA6mCMaMDGEoC9VoHMkT1nE4rSp5eQdyZbuNF0jeSxDdRrNrYuytKmMRRPizKiOUBkNkHcglXfIFlwmlAc5ZVIZCxpiCASLGuPMrI6ScyR18SBnTS+nKqY6ohY3lXFCY5y6RADLFMoIm1LGosY4kyvCmEIwmLXJ2XK/xoyPKGl+H4gx9MADD9Dd3U0ymWT37t20tbUxa9YsKioq9rE+1hs0hvxDsv24Pa/i9rwKqe69FUExnwA3j+zfhuxZh+zfgtu5VjX2mx9G9r6qRnxG2nH7tyJ7NqgABLufLhpCSBucAnJ4t1oraHAXjLQiB3chezep/K3Pea5pvbjd63B7NkC2D+w0snsdsm8rsvdV3I4XcXc9hrvzYUj3qpEgt4AcblXzb4Z2qvlHArWIbO8mZM96yAyM88CFSvlhtTZQ1xpVRm5IHZ/uQQ42q+c4sF3NqRKWuqbBnci+LciBHcpY6t2C27Met20lbvPDuO0r1fUbFnJwO7JnA7J3o3rWbS/g7HoUt/nPkOsvuZbX8maMIYCNGzfyxBNP0NPTQyaTYcuWLeTz+VFG9L70DEB3dzc/+clPuP/+++nr6yvqJSklZ511Fpdccgn19fVFt03TNHEch87OTnp7e1m8eDH19fXF8vd1nlJj6Nlnn+WVV16hubmZlpYWMpkMc+fOJR6Pv245mrePo8YY8oUNT5Ck15ubzWZ57LHHSCaTnH766UydOvU1xtCqVauKxwmvV7O1tZVYLMaiRYvGbbgerDE0vTpCY3mIznGMIYlyo5hQFmLFrEqm10SoigZoSASZXhNldm2M5r4MNbEgJzYmqIsHaRnI0JUsIAScOqWMM6ZWELIMVrYMM6k8xDWL6jl5YoKqWICqSIA5dTGaykNs780QMFWlfNrUcqZVR1g4IU59WZDWQTVRc3p1hJGcTftQnonlIUayDm1DOQyhjquIWKzeM0L3SIGgJZhbF+O9Jzcw1zN0GhJBZtdGmeQZf23DOWpiQU6bWs4pTWXMqIlywoQ4dYkgm7pSyhiaXMac2iizaqNMqYrQWB5mRk2UufVR5tXHmFMXpSEeZHJlhNp4kFTeoWUw+wYbTq9vDJXKEyU9Sa7r0tbWxp/+9CfmzJnDsmXLiMVio/I7jsOaNWt45JFHyGazWJZFf39/UVHPnTuX8vLyYsNxlOI7WGMIcFIpkps2k9nVgrQdhGniDA2T3rad1LZt4LoIy1ILk+7aRWbnTmQu77nNmTjJJJmW3aQ2byXX1oaQkmxrK+kdzdhDwyAhtX0Hyc2bcdJqgUFhGrjZLNmWFpKbNpPzRoukbZPr7CK1aTP24JDKO/YdCQGuWzSm8t09yr3ONCkMDpLe0Uy2tRU3X8AIeK51jkO+u4fUtu2e0dOMM+JFpbOUn7szPExq61aSGzdS6O2j0NtLpmU3md17MEwTEQjg5vNk29pJbdpMZucunGSKXEcnqa1bsUeSe9343ijiwIyhQqHA888/z8svv0w6naZQKLBr1y5Wr17NokWLqK2tHbcx6MtQf38/jz76KP/2b/+GPSbYRV1dHddeey1/+7d/y5NPPsmePXuKLiSmaTI8PEwmk2HmzJlMmzYN9nOt/jfwesbQzp07i8ZQMBhkeHiYjRs3kkwmmTVrFrW1tePL/0EaQ5URi5m1UeoTQbaMYwxJKYlYJufNrGBufYyaeJCaWICpVREWNsTpHMljCJhZE2VufYxU3mVbbxrHlcyujbF8SjmN5SE2d6XYM5hj6eQEF8+t5sSJcSrCFtWxIAsaYsRDFm3DeYKWwRnTKjixMcGM6giz66LEQib9aZtMweXExgTbetIgoCoaIFuQNPdlCFsGp08tJ2dLNnen6RjOEQuaLGqM8d6TGphRE6EialEXDzGrNsr0qgg7+jL0pW2aKsIsnVzGyRPLmFkTYW5djFjIpGM4R1U0wPmzqphRHWV2bZTJFREmloWYWhVmfkOMhQ0xptVEmViutpVHAgxnC+zuzypX6NdBvAFjqFRXlurV9vZ2HnzwQTo7OxFCkMvl2LFjBzt27GDu3LnFxq1ft3slwBsxhjzcwWZk70Zkqhsh9vVtCxVeO9OP279F5R/eoxZTtcJqv5OFZDuybwtu30YVhtrNKdc0Yai5R32bcfu3qM4UYUCmD9m/Fbd/C2S6QRhqzZ7+zchMnwrSYHhR45LtuH1bVPS1lHLHUoupGpDtRw5sxx1sVtHlzAA4tnKh69sC6Z59PwNhQCGN278VBpshn1TGHUC6B7dvMyTblIFleu52qW61Pd2tAjrYKeTgdtzeDci+rZDtVfOV/MikZhDyQ+pZ92xQ95Ds8N6V4UnJ+IxnDI3ti/LlR0rJ5s2beeKJJ+jq6iIQCJDJZNiwYQODg4PMmDGDxsbGorz4MuPLm2ma/PGPf+S+++5j69atGIaB4zjF9t6ll17KVVddRSQS4Xe/+x3Ca1f6HUmZTIZcLse5555LMBgcV5f5+Ndc2umVSqUYHh5m+/btdHZ2FjtW/fPsqyzN28Obb4m9TfiC6Ce/R8CyrFFJCEEgEMAwDEzTLA6/UzJHSAjBhg0b+Pa3v823vvUtMpkMlCjuw41AuTD0pQr8ck0XX398N1/9yy5+8Hwb27rTxEIGE8qD9CTzquIMCKZWRpASYgGTmmgAV0p29mcYztmcNb2SukSQlS1DfOupPXz32TY2daVoKAsxs0b1iOYcF9t1GUjb/HJNFz94ro2X20awHRfDc5VY2zbCSM6hqTLMpIowLn6YJuWf5UpJQyLI0qYyYiGDhzb28bUnWvjWU3tYuWuY2liQ82ZVEQso9zffh71tKMvPXurge8+0srknTSrvYDuSvnSBBzb28u+PtvC79T20DeXIFFzWtSf52uO7ufPZVloGMsRDyi0wYHiuHmMf6AEwVp58efFlC8/H3e9JMk2z+H9/u4+vYLu6uvif//kfvvSlL7F79+6isjvUMiUsC6u8HCuRUI15KRHBAGZZohhEAKkWZbXicaxE2d4FTj2XNTMex6oox4zHwbIwYzGssjKMcBiEwEokCFRWYoSCqj0hJcI0MeNxNecmkSjOETIjYazyCoxweN8KXgjMaBSrvLwY3Q2pgiBYiQRWPI5hqXtBqol3RiSMVV6GVVmBVV6uyjc8H3pABINYZWUEKisxY1GMaAQrEcdKxIsGmJpfFS0u5mqEgsXrMDw3i0OJ64Vdt217VHIcp2ig+HrItm22bdvGJz/5Sf7v//6PgYEB8ORpLFu3buWRRx4pBl4o1W9+5V0oFIqyWrrdMAxWrlzJyy+/XJwY7F+L33AovU7/+ktDIJfut2171PG+28nQ0BC//e1v+ed//ufi5GH/Xt8yhHIP/r/N/dz5TCtf/UsL33qqlce39+O4kpk1EbK2pHUwR8g0mFoVJhIwMQ1BXVy5Kg+kbZr7M5RHTJY2lVMesXimeZD/fHw333m6ldbBnDJQqsMETUE671BwXVqHsty3tpufv9TJK+1JlKhKknmHjZ0pRnIODYkgjWUhzzVtbweZIQQTyoK8Y3Y1lin47foevvpoC//9XCtr20aoSwQ5bUo58aBJwZsPlLVd9gxm+cnqDn76YgdbutPF0OM9yTy/XNPFfz2xmz9t7mMgbZO3Jc/tGuJrj7dw7+pOdvRmiAUNauKBQ6NUPfalV339SYncua7Ls88+yz/+4z/y0EMPkc1mMQzjgGVGBOOIcCUi4C/0vA+kBDOk5vVEKhGhhGrkS9drpJtgRSFUrsoLlXluaR5m0NtXsdfAMUMQKlPbrKh6v6E4IlyBsCJ7zwtgRdS5QxUQiHtzgzx/TSMIwTJEsEyV7RlbIhBDhMq9svf1fNTcKBEsU1HvzNDevFYYES5XQR6MgKdrAdPbHoh6848C6vzhSkSkAgKRvXOXQF2nEVSLyEYq1f0G4mqU6QAolZdSOfF/fZnxdU4+n+fhhx/m85//PI8//nhRX5bKjBCCQqHAM888w65du4p6ytdlvrEzODjIyMjIKHn09w8MDPD444/T2dlZ7IDyz+GX5ydf75fqO///g4OD/O53v+OTn/wk69evL+pL/340RwZHtDHkV8TZbJZ77rmHO+64g49//OP8zd/8TfH3jjvu4Omnn2bt2rV84xvf4BOf+ERx37/+67/y5JNPFssqLTOfz7Nz507uvvtu/vM//5OWlpaSj2lfiubQIQRkbEnnSJ5ObzRlZ3+WtuEcEogGTIayNr2pApGAyfTqCAFTUBm1SIQtRnJq9CYesphaHSaVc9jUnWZzd5qdAxlebhvBQVIbDxILmCAhZ0t29KZZvWeErT0ZBjI2jmdcGEKwayBDx3CO6miA6dURogET28sgJVimoD4RpKlSjR6tbR+hJ1lg90CWbb1pRvI2TRUhqqIBBGqScTrv0NyX4YXdw2zvyzKSdfy2LpmCw5aeNDv7M7QOZUnlHZI5h92DWXb0ZdjZlyGZdxACTKEiHx2KNyO9UK/ZbJZcLkculyObzZLNZsnn88WJ4LZtk8vlyOfzo/Lmcrni2gc+vjLs6uri4Ycf5gtf+AJr164dZWgfVkrLf71zjd0/6u+x5eynrFG79pNvf4y9Fp99bB7Fvo59oxzs8eNQ2gD0k2VZmKZJOBwuNvT8yte2bbZu3crXv/517rvvPjo6OkblEd4k4vb29qKBUVoJ+8ZJJpPBcRwKhcIoo8b1RmdSqRTNzc20tqqV7kuvV5QYUKZpEgwGi7+hUGjUvkAgMKrzyce/n4GBAZ566ik+//nPs3LlymJQm8Mu/x7CC0DQnSzQOZyjcyTH7oEszb0ZHKnmS2YLLt2pPDnbpbEsRFnIUvOI4sqVrHMkx2DaprEsRGXUojtZYENniq09abb1pNjUlcJ2JBXhANGACjbjurChI8UrHUl29GUYynqjd15Etx19GXpTeeoTQeY3qN5hUO6kjisJWoK6RIjaeJA9A1k2d6foHMnTOphjS3cKQyj36LKwhSHUKFim4PBqZ4q17Ul29mVJ5hwEan24oYzNtt40O/qUC166oFzstvWk2dmfpWUwy0hOuR2bvtGwH9vhjeLXrfvSq6UNQOk1KPP5PGvWrOH73/8+//u//0t/fz/iQIMqvNlD/Pyy9I9x2Neu8XSgZO/D3Ndxb5oDLWjMcXIf91rcPg5yPMEoWTereNy+Ctg/rusW69hS2fHr2bEyI6UkmUyyevVqvvKVr4zqSPLzSinp7u5m586dDA0NAWBZFrFYjFgsRjQaJRAIFPVzJBIp7guFQkVjqqenh82bN78mOJev5/3kl2MYRrFT3r8Ox3EYGRnh8ccf52tf+xqPPfYYqVTqwGVcc1g4KtzkCoUCjz/+OJs2baK7u5vBwUEGBgYYGhqiv7+/6CNvGAbZbJb+/n6Gh4fp7e2ls7OTwcHBonBS0gCwbZuRkREmTZrEqaeeSk1NDQgVyPRwusn5uF7eyZVhZtVGmVsXY2ZNhJpYkJ19GZr7sgRNwayaKPGQyUt7RphUEWJufYxkzmFtWxLTFJw3swrHlQxnHcKWwaTyEI3lIWZURxlI2/RnbCqiFhPKgmzvyfBqZ6rYDmyqDDGvLkam4PJk8yCxoEVjRQjLEKTyDhPKVAX9QssQQ1mbWZ7LW2+qwNPNg9iupOCo+5jm+bevbRvBcWF2XZSysMXOvgzrO1OYhlqIUPWqqnlKL7QMMZixqY8HmVUbxTQE23oz7OrPYpmCpU1lVEQs1SjoSeN6htT+EPtwk/Pp7urivvvu449//CNPPfUUTz75JE8++SRPPfUUTz/9NE899RRr164lmUzS0tLC888/X9zvp6effprt27fjjOnFl1KSTqfZvXs3PT09zJgxg+rqaixvBAf34N3kNG8jYt9ucul0mldffZU///nPvPjii7z88svF9NJLL/Hss8+ybds2MplMsVLHM266u7vp6enBdV1qa2upqqoqGkO5XI6VK1fy4IMPkk6nicfjXHjhhZx11lmccsopLF26lGXLljFnzhyy2SzTpk1j8eLFzJ07l3A4TE9PD47j0NTUxIIFC5g+fTquN2LU39/Ps88+y2OPPcZLL73EmjVrir/PPPMMr7zySnFycen9rFy5kjVr1tDd3Q2e3Pu/2WyWtrY2uru7KS8vp7q6mmg06n2T4rC6yeEZF+GAQWN5mJk1EebUxZhVG2VyZZi+VIFN3SkyBZemijB1iSCbu1MYBixsiBG2TNa2J9nWk2Z+Q4wFDXEcKUnnHWJB09OrERoSIbqTeZJ5l9p4kAllIV7cM8SeoRx5WxKyDBrKgixqTNA+nOOV9hSJkMnkygjhgEHbUI6TGuMUXMmGzhQjWYc5tcpFeGtPmvWdSTJ5F4QgEjBZPClB0BKsaR0hYAqmV0WIBU1e7Uyxqz+DKyFgGkyrDjO7JkpfusDqPSMk8w5NFWGmV0cQAl5uHaErWSARsphXH6U8bLF7IMuWnjTWQbrJSekyNDTED37wAx5++OH96tVRZXoNz97eXrq7uxFCsHDhQkw/qAJv3E1Oc2RT6ibnSheBYMPGjTz44IP87ne/45lnnhlV1z799NNs3LhxVKeK35bL5/N0dXXR1tZGQ0MDtbW1RCKRom7t7Ozk/vvvp6WlhXg8zuLFi7n11ls599xzOfvsszn77LOZNWsWVVVVNDU1ce6553LuuecWAyoMDw8TCARYvnw5s2bNKs4vt22b3t5edu3aRVdXF93d3XR1ddHT00NXVxfPPPMMGzZsKMq5rxuz2WyxPRoOh2loaCASUSOGpe1TzdvDEd0S842WQCDAsmXLuPzyy7n66qu5+uqrueaaa7jqqqt497vfzQc+8AFuvPFGrrvuuuL+q666igsvvJCZM2eOLRY8AU0kEpx22mmcd955VFZWwqHpHBsXv9xi+RJq4kGWTSnj7BkVLJ+sJsTWxIJebx0UXJeeZIGukRyJkEljWZDJFWEiAYPBjDdqZBnFUN4L6mOcN7OCM6dVMLs2qkLHuhK/mSAA01AjPKYfeXQUgm29aXpG8lRHVahtgWrDS8BAEDDU+hQ5W4X79g0T3ygCVSnjHSdQbtCWoXogS88pBJheeaXrYJje+kSGNxp0yPBq8VQqxauvvsrKlSt5/vnni2nlypW88MILvPrqq6RSKVpbW3nxxRdH5fHzNTc3j2sI4TVuh4aG2LRpE0NDQ3o4/M0gRq9NdDTgV77pdJqNGzfy61//mvvvv78YXvVXv/oVv/3tb1m3bh2pVOo1x/qNwZdeeonHHnuMlpYWRIkbhW3bxZFJgHg8zooVK7juuuu47rrruOKKKzjllFMoKyvjggsu4D3veQ/vfe97ueqqq1i0aFGxUen30suSsLRDQ0M899xz/OpXv+K+++4blV566SWSySSDg4PFbX6+J554gvb29uI9lBp3rusyMjLCgw8+yOrVq+nv9yZVvxW9oFIFpjlxYoKzp1dwxrQKFSygMqx0jCdaA5kCewazmIZgUkWIpvIw8aDFUNambUjNpQwHlG6tilicMCHOilmVnDOjgonlIVzPBdjwOl7wRtctT5+V6ntDCLIFl539WXpSeeriQWZUq0bQ3mNVNDuJCn3t61Yp1Rwr21URQ/0w3L5haXrnHKvPff3p61wxSt+q/YeuAaYUq/TWWfGNZV9X+np1/fr1r5F/SvTmyMgILS0t7Nq16yjQmX5tta/0RvKNx/7yjLd9vG1vZN8RgFQREvv6+tiwYcOoOva5557j+eefZ8uWLa8ZlfHlRXgBtDZu3EhnZyd5b/kAn1JX32AwyIQJEzjjjDM4/fTTOf3005k+fToVFRU0NDQUt51xxhnMmjWLeDxeLCdfsmSA67okk0leeukl7rnnHu666y7uuusufvSjH/GjH/2In/zkJ0W9WYovz319ffzlL3/hN7/5DRs3boQS/al5ezmijSGfQCDAeeedxw033MAtt9zCzTffXEwf+tCH+Lu/+zs+85nPcNttt3HjjTdyyy23cNNNN/Gud72LhQsXFsvxjSuAsrIylixZwic+8Qmuu+66koghh15xiJJKr7hNwCmT4qyYWUlTRYi+dIFNXUk6RnLFNSVc6VXaQ6rSnlUXZVp1GICeVIGRnINZMkxScCU5R5JzXPrTNq92ptjhuZr5lbb02iTjfXsBQ9A+nKN1KEfQEsysiRINmMVrl6h1NZCy6LbmI7xKH9TcolLU+ZTb3KhdY//2N/sj8CUj8YcC//1XVVVxySWXcNNNN3HzzTdzyy23jJKrK664gurqahYvXsz73//+Uft82TrjjDNeM+FdeMPeoVCIGTNmcP311zNr1iyC3sjB0dbIf1twXSX4RyGWZVFdXc2MGTOYNWsWc+bMKSY/qIAvMz6+zBiGQX19PU1NTcTj8aKRhDd3zXe1wxspb2trY9u2bWzbto2dO3fS3d1NLpdjz549bNu2je3bt9PS0kJfX1+xIvZd3Er1oB8B0b/O2bNnM3fuXObOnctpp53GJZdcwkUXXTTqXubOncvkyZP3GZlOeB1Y06dPp7a2thgC91AznpS4wNTKCOfPqmR+Q4y8I9nak2ZHX6a4hplAkMy5tA/nkRKmVUWYXRslHjIYTBfoTeYJGKIohtJb1ydnS2wJ7cN5NnSl2D2YJVNwKB1Q8XXXGA2IYcCewSy7+rOELIP59THMMaPC6tr2djD5Zfj9A44r1TzOklpKevXEWD0qvYsY7xmV6tdDg6o3DcMgHo9z7bXXFnWrn2666SauvPJK5X1ReqRfZ7gudXV1nHXWWVx00UWEw6qeO0xV8sEjpTfHZ7xU+mD3k2/cF+C/zNdKkfe2R2/3K9WxAqB27qOcIwPhtSGmTp3KJZdcwoc+9KFRdfLNN9/MihUrqKqq2pu/pK61LIu6ujouu+wylixZUuzQ9veHQqHi/HG/o+ruu+/mnnvu4e677+bZZ5+lra2NzZs3c8899xS3P/300/T29hbLKSsrK+pePOOotbWV1atX88ILL/DCCy+watWq4m9bW1vRgCo1cnw9b9s2/f39dHZ2Fvdp3n6OCjc5PEHaVxq735/s1tXVxQsvvMDq1asRno+n31g955xz+OQnP8mll15a/MhUUuc7lG5ya9uUmxy+WhIQCZhcs6iW8rDFY9sH+N2rvTT3ZahPhJheHaG5P0PLQI5UXq1JsagxTsQyaKwI05sssK49RftwjsqIxdLJ5fSnC/xufQ+/e7WHl9tGeHHPCC/vGWFzT4qgoVzt6hNBdg9k2dqTUVcjoKk8xNy6GOmCy8ttSYaztufiEWJKZcTr7TRYvWeYgXSBxrIQM2ujuFKysmWYvDcaNLE8pNxMAiZPNQ/iSsmcuhgVEYs9g8oNI2AaOK4susnlbJeXWkcYzjpMKFMR6UxDsLMvQ8tglpBpsGTyoXOTE0J1kUYiEWbMmMGiRYtek+bPn09lZSV/+ctfOP/887nllltYsmQJJ554YjHPiSeeSG9vL48++ii5XG6UkjZNkxkzZvDJT36SD3/4w9TU1GAYanFIODTR5A4KrzcOv41R2pAtrVAPp+HmXcPo80ukK5G2rVZ0F8ZhvYQDRozvJieEIBKNMmvWLC6++GIuueQSLrnkEi699FIuvfRSzjvvPAYHB9m4cSPDw8NFefF1Unl5OR/60If42Mc+xgknnFCsOP1827dvZ+XKlQwMDJBOp3nuued48MEHeeCBB3jhhRcwDIN58+bx93//93z/+9/ngQce4OGHH2bz5s1FY2jJkiWceeaZNDU1Fc+dSCRYvHhx8XpfL1166aVccskl1NXVFY0u04sA5l+vaZpMmjSJr371q1x55ZU0NDSo9+3J+qF0k2sZyFJwVOeMUkWS82dVM6MmwtrWEX7/ag8vtY4gDMHiiQn60gW292XoThYIBwzmN8SoDFvUJoJICVt70mzsSoGA2liQOXVR2oZyPLCxl9+u72FdR4rVe4Z4uXWE5t4s0aDJ/LootfEg6zuSdI7kKTilbnJxWgdz7OjLMJC2iQVNplSFmVQexjKECq7QlaI/YzOxPMT8+jh9aZtN3WlSBZegKWhIBFk2uZyRnM3KlmGClsH0mgiJkMXWnjStQzmENyI/tSrMrJooA+kCL7clyRRcJleGmVEdwTAE6zuSdCcLlEfUGnJl4b36+WDd5IQQBINB5s6dO65eramp4ZFHHqGjo2NUnQtKJ19//fXcfvvtLF++HDz5hDcXTe4tQUpllEgHKR1wHe9vF1EMwOAHRHBAuuPnKy4MW1KudABnry4etd/x9qMCPJTm9zWq8OuTEiOMEgv7babUTc7X/xUVFfusjzOZDKtWraKrq6uoKw1vSkRdXR1XX301X/7yl5k+fTqBQGCUXJmmySOPPMKePXtIp9P09PSwZs0a1qxZw9q1a6mtrWXixIls3bqVr3zlK8V9LS0txfXbYrEY/+///T+mTJlSjCgXjUaZM2cOl112Ge95z3uK6dprr+Wqq64imUyyc+fOYhnS69gyvUAiS5Ys4aabbuKaa64p3ov/HWjePt7iltiBI8aZmOwnX6D8VLrd/zAML7KSZVlce+213HHHHZx99tk4XiSwwyGM/jqhpikwDPVrGkovmUItcooXWlJIFSQgaPohYtVIS86WdCXzdA7naSwPEQuY9KQK9KZUr+ZAplB0a5tbH2VCWRDbUUZhZVQt6BqwDFwvoMF4nUSu9K9V+d63DqlgDq6EsoiJI12EN/LUny4wkLGpigaZUR1V/vmWQVNlmKqYioDXmyoUo775xmop0jtfqSOELOnhLD3Cz/vaUg4O1wt4UDoJ3Z98nkqlcByHbDZbnJhul0TT8oMq+PemKm0lo0uWLOHTn/4073vf+wgEAuPe/9uGBGFaGOEQRjikItH5CIEIBBChECIQOPQPHL++VucxohEV4U4IpOMggkEqli5h/re+xpTbbiVUW61GiQ7Dd3k4kSXuFL6M+dGJ8iUTyH29JKWkpqaGf/iHf+Cmm25i8uTJowwLX2f5ozdSyqJuK9WB/qRff/SnVB/6x8yYMeM1obWl14FUes37S/434H8PPv55QqEQy5Yt48477+SCCy54zSjXweLrRilV8AHTc/0yjb1BVkKBvcFWlMgJQqZAokZ7hDd6PZgusLU7TTxsURmxGMyo5QUKrsT0AinkbJemyjDz6mPUxALkHQdQC0pXRCwChsDxyhvvk1HXulcXtg/n2NSVImQZBC1vkWkgb7v0ZQoUXMm0qjATEkGkt+DrtOoIhgG7+rMMZmwcV937eLpF6Us5WrfuY/BAeq5thxpf7kv1quM4JJPJosyUyn80GuXjH/84H/nIR5g7dy6OF23riEMYSCcPsTrM+e8lcNF3Cb7zvwlefhfBS39E8NK7CFz8fcwlfw1GEGPicqyz/onAO79H8JL/j+DldxO89Icq33lfxWg81TMvUQZSpBLr1E8RuOhOrCV/jaiao0JdI8EMYs69FuvsL2PMew8yP4KonIl1+mcJXHgn5kkfRsTr1SKzro0IVWKecBOBMz+PMXUFMpfyznXkPVdf/5TWx2MTnsyYXp01bdo0br75Zv7pn/7pNSNCfpllZWWccMIJ1NXVFY81SwLaBINBwuFwMWCMv8/Xn7FYjPnz5zN79mwikUhRZk3TJB6PM2HChFGpsbGR2tpaysrKRgWX8Y9zHIeLLrqIO+64g2uuuaZoXGmODI4aY+iNUipcpf+XUhKLxYouUSeffHIxutOhFEjpuYsZQq2CvqA+yi1LJ3DTskZuWjqB95xYz5JJCdIFR018dSVLmxJcd3IdV51Qw4KGGAFDFCt4V0qGsjYtg1mEEGRsh+6RPMNZG9OA4ZzD8y1DpPIOp04u44ZTJnDj0gl8cEkDNy+dwMmNCeJB0zOulEFWWv0ZhihWzEiKC5zuGcjSMazc84Kmuh4poWM4z4bOJEFLcMXCGj64ZAIfXDKB5ZPLSOZsnm4eJJmzAW8ukHcvpViG8nMXqm1cNPx8X/ZidCMgaApClsp/KBFjosGUpvHyleb3lZu/3/Umo1900UX89V//Ne985zuJRqOvKeutwL+2YjKE6pEXAjeXI7ZwPpM+dDON738f4SmTcXN5pONixuPUX30l0/72b6h554VI21aTvfx3MbZc8dq5PcVt4+QVhoF0bAJVVdRcfBEzPvP3lJ92KkYopIwh0yJQU0350qXE5s5GhMPFhux4adS5S8479tzF7W8RY69z1LV4+DJkWRZTp07l85//PFdffTVNTU2jIhGVljl9+nTOPvvs18iUb2j4FbtvlPiNXD//SSedxKJFi6iuri6W6f++mVR6jP9//5yJRIILLriAT33qU5xxxhlEo9G9nVLe9R4shhAETEHQNFg+pYwPLGngllOVznv3ibXMr4/R0p8lU3BZOCHONSfUcu2iWs6aXkHQVMf6I1FZ2/WCD6jRqd5UgZ5UXuksIehOFljfkSLvuJw2tZxbTp3AB0+ZwI1LG/jAKQ2cMCFGyDLUUglj9JYomafjj7gYhmA4a9Pcl2HYizZnCqUPC45Lx1COl1uHiQVNLptfw83LGnnv4nqWNJXRn7JZ3TpMylt42p/zM1YtCu88QdMAb4Rc1SWieE1+PiFU3rH6+WDxZaI0+fLi78eTzbq6Oj772c9y/fXXM3PmzKJb0xGLayMCUUTVHIzJ52A0nYlRvUClmvmI6vmIRJNqCSQaMRpPVXkaFmNUzcOoXohRswAqZ0OoXL0E6ZntVhhjwikYU87FmHEx5uRz1ZuSLggLUT1f7atdoNYJilRiNC7FmHou5tQLMBqWglPwyopg1M5HTFyOKJ8KbuEt1YNvBl+flMrKeHKDZ2ifeOKJfOhDH+Lmm2+murq6mG9sXsMwuPDCC5k3b96ofb7xlc1mGRkZIZ1O43phsP1fgPr6et773vdSXl4+St/5v+PJty+7vl72tweDQa655hpuv/12Tj/99GIwhrHXrHn7OIK1zsFT+pFVV1dzyy238MEPfpCTTz65uBrwoRRGZQgp3+6RnENfSvX0TawIM9GL8NZQFqQsbFFwJC+0DLOhU/XYNFWEqQgHaB3M0ZXMk8w7uN4HlS24NPdlcFzJQFoFTkgXXExD4ErJKx1Jnm4eoG04R3nEZEZNhEkVYWxXksypkKrJnENvqkAyZ6sK0bvtTMGhO5mnL1Xwzqeuv2Mkx6udKbqGVejvnO0iBAxmbNa0JnlqxyB526WpIkRtPEBXMs8zzYOs71ATBx1XMpi16U0WSOX29vQJAcm8Q08yz0DaxnHVM8s7LgMZWy1WaKtwwBLoTxfoHskzkvN6FItP++Dw3/14qTTP/vL7ii8UCnHJJZdw4403cv7551NbWztueYcdKXHzeZxczkt53Fwet6AmlrrZLMHaGspPWUzZiYsw43GcVApp2whDEJ83h6pzziI2e1Zxu9+dLB0HN5/H9cp283lkYe9+ALdQQBYKyHwBJ5dX58+rJKVEFmyMYJDYrJlUn3MWkYkTVX7bQTo26R3NtP70Z/Q+/CjO8AjCGzVyCyXn9cqUjlOs3KXrIgu2d251/8Xz2jbyLZ6MPVZOSuVAeL3hkUiEE088kU984hNcffXVTJkypTi6Uyoz/v/r6uo444wzWLFiBZZljerRHxkZYdWqVfzkJz+hra3tNRVxRUUFV155JSeeeGJxtHKsXI691v2lsTiOQ0VFBZdddhkf/vCHOeecc0gkEsWGwqFCeO7LQxmbnlQByxBMKAsxqTzEhPIgDYkgiZDJhs4Ua9tGSOZUNMzG8hAD6QIdwypkdsFVc3hsV603lC24ZAouvakCQ9m9c4BsV/JS6zArdw3Rk8xTGw8yoybChESInO2SyivdOpy16U4WyBRU4APhrcmWLbh0jxQYyqolDAwhyDuS9qGccqkbztGbKni6VTCQsXm2eZBVu4eREiZXhKmMBGgfyvLotn6a+7I4rgqmMJC26UsVyBZc78kouUrlXXpG8vSnC0gpMYBMwaUvXVD1kbNXxw9lnNfo50PBWHkZm/B05ty5c7ntttu47rrrmDVr1qje9yMT/7oEWCGEGUQOtWC//P9hr/0h9tq7cNb9GHfnw+DkEIal1i/KDuA0P4L94nexX7kbe+2PcDb+L3Jgh9KfQuluEBCII4JlGOVTMBqXIOKNnnsd6pyBmOcm6KpFZYMqv6icgTHxVGVguWr0EiumFjc1A3vd5Y5QxsqILwOl/3ddl1NPPZUbb7yRa665hmnTpr0mf+kxUkoWLlzIRRddxKJFi4qj236etWvX8stf/pI///nPxW14hkxjYyMXXHABF198cVEvlzL271J8/err6Orqaq6++mo++tGPcuqpp1JRUQGvU4bmreeomTP0ZvCFsbu7mzVr1tDZ2cmVV17Jrbfeyrx584qrAO9PGA9ozpCnLA1vEdO+dIFd/VnahnLsGcyyZyjLngH1d3/KZjBrM5y16U8X6BrJs3sgx9beFP1pm5Z+5WOec1xMIaiOWpw4McHOPhUauy9d8Hr0BOmCMnR6UwX60gW6kipS0obOFC39WbK2ivTWly6wZyDHYMYGv5dQqtGl3QNZOofzxUnDypBSFX1zn1qXIme7OC4k8zYdw3kGvIh2LQPqXJu60wxmbAxDLSprOy7dyTx7hnIMZWyvF1M9o6GsTetglvbhPI5U7nnZgkvXSJ724TxpP+iDNxq1ezDHYLqgRrVe51WI/c0Zep3DpZS0tbXx0EMPMXfu3OKq0ZQoWdd1efnll/nLX/6CZVm84x3v4EMf+hBnn312cYLweL1acBjnDEm18GqocSLxeXOJzZ5FdNoUgrW1CMvCSSYJTWigZsW5lC8+CSsawUmnMQIBpOtStugEqs49m+jUKbj5PPbgEGYkip1URpEVjxOe3ERi4QKis2YSqKoEiRpZcl2MYJCyxScTbpyAGYkQrK0lPn8O0WlTMeMxnFQKIxql7MRFVJ19JtGZM7CHhsCrNFwvEpAZDlHo7SPf3YObz2OEw4QaGogvmEd8zmxCEyYgAkFkoVA8JlhdRXz+PAJVlZjxGOGmScQXzifUOAEQRaPokDxrMf6cIbVrnPftYdt2MRy167qcfPLJvPe97+X9738/NTU1mJ4/+dgy/L8tyyIej1NZWcnu3bsZHBwsRk/y18PYsGEDHR0d2N7CrJZlUVlZySWXXMINN9zAzJkzXxNA4c3i69Zdu3bx/PPPs2vXLqqrq7nooou48cYbOfvssykrK4OSXtKxHMicIQDpLU+Qs1WUzZaBLK2DOfYMevp1MEfbcI62oRwjOUe5EKcKtA7m2NyVpj9dYPdgjq6RPJmCahSFLYNlU8pJ5dS6abu9EXjhPfuRrENferRubRnIsqErxZ5B5UanFjlV21N5F4m6JykhlXPY1Z+lL606m6TnbuyXu2sgS/twjqyt3JgHPENvMGPTk8zTMpDh1U41jymTV9dsCEHWVrq1dUjNKzWEqn8kMJi1aRnI0jmSx/VENpV36BjO0zaUI2er67NdOUo/vxGZEF6nnxx3ztDY3HuRXqjjhx56iMHBQRYsWMB73vMebrzxRiZNmrQfuTyC5gwJA5w8IlKN0XAyomI6bsdq7FXfRPa8iuzdoNJgM9LJYdQuxGhchky24Wz5Dc6WXyMHtyO71yH7NkNOhawHlJtcqAxz5iXK4EG5xsmhPcj+TQgrjDHxdIyKqciB7bg7/oRRNRNjynneAqpqIVjZsxE5shsRrsJoOgsRrcHtXofb9jwi4C12/TZSOmfIf7fj1ci+LGzatIknnniCgYEBTj75ZG6++WYuv/xypk2b9ppOn7HH4xndFRUVmKZJb28vAwMDRYOov7+fHTt2sGvXruK6gUIIJk2axEUXXcT111/PSSedhCjxDhl7jrHnt22b559/nrVr1zIyMkJjYyPveMc7+MhHPlIcLR97jObI4Jg2hnp7e2lvb2fChAnccccdTJ8+vegP+nrCeCDGEChXibwj6R7Js603zfbeDFu702zrybCtJ8PO/iz9aRvLEDgudCcLNPdn2NGboXU4R1+6wI5etSCqlMrFIRGyOGligunVEV5uHWFbb1pFMfKuyTQE6YJL50ieHX1ZtnWn2dGboSuZx3FV5dudyhd9zg3PRQ3PKNnZl1GRlbyNQghcV81H2tqrrjlnKz914RkaI54Bta03Q3Nvhu5knrwrsUyBQFBwJO3DeVoGVUXrX6sQMJAusLM/Q9uQMr4sU5DJO7QOeZV7wSHgrRvSOpRjV796HkqJ+E963/jXKA6jMbRmzRpeeOEFTjrpJP7xH/+R5cuXU15eDvtpBMJhNIZAuaBdcjENV19JzYpzqDzzdBKLFmLG42RbWqg4dRl1l15CZMpkrLIyolOnEZszm0x7Ow1XXu6NFsUIVlQQP2Ehrm2T2roNYQjKFp9E/VVXUH/1lVSdeQaxeXMxggEKAwPY/QNYZQlmfPbTlC9fRrixkbKTT6T+isuoPvccwpObSDfvJFhbQ807VlB19pmY4TCh+noSi07AHh4m19FJbOYMpvz1bQQqqxhZ/ypuJkt87hzqLruE+muuovrcsylbsphgXS1uNkO+qxs3m6X8lJOZdMuNxBfMJzJ1ClVnn0n9lZdTvnQJRihIvrubQv/AoXnW4sCNoWeffZZNmzYxe/bs4lIApb2E+zre3x6JRJg5cyahUIj+/n6y2WxxTkYmk2FoaAjHcQgEAsTjcSZPnsw555zDpz71qeKaQ6XlHQi+bm1ubub555+nr6+PSy65hI9//OMsXbpUrSfkzXnaFwdqDBlCLRzdMZxnW2+G7T1pbyFUpV93DWQZziq9OJC22TWQZVuPCsbSny6wqz9Hx4iaE2QIQdgymF4d4ZSmBM39Gda3p+hLFTBNQ3W6eK87lXdoH84pXd6TprkvQ6937TlH0jmcp7kvS6qgevB9Q2g467C9N0NvuqA65r0OKFdCd6rAjt4srUOqk6n0GQxmlDGzrSdDc3/Wm4OpOoxMIcgUXNpH8sUAO74LnPRG0nf0ZukYziM8172RnFM0FguO67nlja+fXw9xEMZQe3s7jz76KNXV1Vx//fV88IMfZMKECbC/zqMj0RiK1ih3tuo5yP7tuDv/zzNDSyPHORj1J6jRmtwwbseLyL4tCDMI0htRF+ytjaSLCCYwZ12u9uWGIZgAK4S7+wnAxGg6C6NyBnJoJ+72hzCqZmFMWYHIp5CFFCJSBYUMbttziHAFxuSzEbE63J5XcVufO+qMIYCNGzfy/PPPU1lZySc+8QmuuOIKGhsbi3nGlxmFKJmT2dTUREVFBf39/UVjyJ8DSYnRNHnyZC699FJuuOEGzjzzzP0aXKX4o0C2bfPcc8+xdu1aotEoF198MbfeeitnnHEGYh9GlebIYN811lGML7xVVVVcddVV3HHHHUyePBn2q3QPDdKrtAOmWiwvEjCJBvemSMD01pNQ+UKWQdTPEzAJWwbRoIkhoDwSYG5djDOnlbN8Shm2I9kzmCWZV6NFxXNK5XceslQZe89lYHgBGwKGqvzHRgyyDLWeRsgas6aP58seCRiqnDGPzL8//3yhgInlzSvCqxiDpkFoX+f05imJkjlDQVNts0oWUAxaBuHA3vU1jgRs2yaRSHD++efz9a9/nWXLlhUXT9tfI/BwY8ViRKdPA7tAtqMTXJfECQtpeNfV1F5+CfbwCIWhIWTBxs3lyff2km1rx01nyPf142azICVOKkW2tRV7eBg3myF+wgIab7iehiuvACDX1U3ihIVMuuUmai++CBEKIgyDyLQpVJ66jPqrrqBi+TKMaJTwpEmeUXQ2ZixKvrcPJ5VGAoWhIXLtHdiDgwjAqqggPmc20VkzEEIQnTqVxve9h6YP3USooYFMWzuh2lomXn8dk26+keicWTjpDFZ5GZGpU6i96B3UX3kZsblzkEIQnz+XxhveR9nikzEC1tsakEFKSSaTYcaMGfzVX/0VN9xwA+Xl5cX5Zq+nk/yKNBwOc/PNN/Pv//7vfPjDH+bEE0+kqqqKaDRKJBIhEonQ1NTEO97xDu644w7uvPNOFi1adEgMoVJs28ayLJYvX85XvvIVFi9eTCgUel1D6GARAgKWp5dK9KqvW31do/KU6FVPj1kGRAIGUyrDnDa1jHNnVmAZgubeDP3pgicevvZR+Hqw9FzhgIHprdkTsJQOtbwRJR/DgHDAIGCWTNbxCJjqmLBljNLlAKGx1+7lkV4gGUOouZRhT1eWUqrP8e7EFIKgpXSx4bkf708/Hw6ktxjv9OnTuf322/nwhz9MXV0drusWR0WPOqRUhk0hhyxkwM6Cq7wu9uLN+XEKyEIeaWfB9oIivAa1TWYHcQd2INM9GJNOx6iYDoapIseNek5e/lQXcqAZpMSY8U5EtG7veY9ifN04Z84cPve5z3HddddRXV1dNDzeiMz4umjKlCncfPPN3HPPPdx+++1ceOGFnHTSScydO5f58+ezfPlyrr/+er7xjW/w+c9/ntNPP714/Bs5Tyn5fJ5IJMK1117L3/zN33Dqqace3XJ+nHBMjgz5AheJRKioqCCRSIAX9viNCuOBjgyV4vUVvSa9Xh7DW9R0Rk2Uc2dUsKSpDBfJ49v6ebUjRaagJtGOLWu88sbuG4/x8vq8kX372r8/3swxbyYvXkUvvd9DOTJU2sirr69n+fLlzJw5E2MfwRfG5XCNDAmBk04z8vJaeh74E91/eIDBlaswrACJExeBEOy+8/sgBNFpU8i1d7D7v3/Anh/dTb67m/T2HUSnTyNYX0vfo0+w+e//gfT2HQghaLj6SqrOOI2RV19l86c/R8cvf4UZixGbriKTpbZsozA4QMO7rkaYFh2/vI+dX/smPQ/9H9Kxic2bS76ri77HHie5ZQvBulpiM2fQ9tOf0/KtOxlesxZhGkSnT6fqvHPI7Gph4JnnqDrnTGrfeSHZPa1s/ezn2fOjexjZuIlQQwOxWTOQhQL9zzxHfOYMKpafSratndaf/JRd//UdBp5+lsSihYTr6hhZ9yrJjZtw8/mDf97izY8MCa9zxjRNLr30UhYvXlycQOtHR3qjCG9ksqamhiVLlnDRRRdxibcWkO+q9uEPf5h3vetdnHzyya8Z1TwU+NfQ1NTEBz7wASZNmlRsNLyRb+BAR4ZKGavnxtNDY/cJIcg7LlXRAKdNKecdc6opj1isa0+ysmWI/vS+XcXGljXeucZjX9vZRzml2/d1Lp/9bR9v33jb3iyipPw3OjLky55lWZx66qmcdNJJRVfK15f/I3BkKFaL0XAKRu0CRD4FhRGM6lmIihkQiEB2EJwcRv1JGI3LwLCQhTRGKIZRMw8Rb0Tmk16kOO+hSRcR8kaG7Dxu1xpIdWI2LsUdboOhnSoIQ/Uc5OAONTJUOV1Fikt2IHvWg2tj1J2A2/UK5EYwGpci4g24PeuPqpEh/xt0HIfy8nIWL17M8uXLCYVCxXp2X9/peBTrfSEoLy9n0aJFXHTRRVx++eVcffXVxdDYK1asYObMmUXd/EZ02Vgcx2HDhg2cddZZXHnllcyZM6eo+zVHNm/+bR9FlIZRfDMfz9uN60osQ9A5nOOp5kHuX9fN/7zcxfO7hknm1WTXQ1GxaQ4My7Kora1lypQpxehHR4J8ufk8uc5OCoMDOKk0hf5+7OFhDMvECIVASqTjRcuRErdgI/MFtc22kV5PopQurp3HzWQIVFcTntiIaxcYWf8q6S1byff0MLxmLbnOLqyyMkL1dWA7akKv45Dv7ia7ew/5rh7yPb0I6a0xIwHbUSM0gLQdFXTBcdQ+r9EkCwUCFRVEpkzBCARIbtzMyPoNICG1abMy0qwA0RkzCFSUqwAJUuKMjJBr6yDX2kq+swt7ZES5OfiVmj9s+RbiNwQDgQCnnHIK8+bNK0YnOlCZ8csrKytj6tSpnHLKKaxYsYKLL76YM888k3nz5lFfXz/KP/1AzzUWX9abmpo4++yzmTZt2n7mexxZ+K5myZzDmrYkv/b06kOb+uhOefMRNYcUXy4Mb1HhGTNmUFVVdcTozAPDi1oZiCLqT8I6/R8InPYZrNM/gznzMjDDXgQ4ExAYFdOw5l+HdeYXCCz/e6xln8QoayoxLcdgWpDuxu18GekUMGdeDGWTQVj7GO0xcIdbcdtXqblFMy/eOzp0FGOaJnV1dcyePbsYnfVAZcaXQcNbGNh3nZsxYwZTp05lwoQJlJeXF8Nsv1lDyJfzUCjE1VdfzVVXXXV0REfUFDlu3tKBfkRvB9KbBzSctdnWk+alVhV1biBjFwMcaN4+hNfLGQgEin+/7UiJME3CU5qoveJSJn/0IzR95MNULD8VAIFEmAbCKAlBbZoIy0IYhvq/fx/CwLACSFdilSUwYzHMaIzYnNlM+sgtTL7tVqrOOYtgbQ1mLEqgsgIp90YAlHJveFLVKCi5TsPwFgZU4bb985fmkY6LGY1gxmK4BZt8by9uNosZDuEkkxQGBsB1CZSXY0aje40r1y0aRuBNzjhCEN7iguFweJ/BEt4o/rHC63GMRqOUl5dTXV1NWVkZwWCw2HA4mPPsj2g0SlVV1VFjCPmY3qj77sEsL+4ZYU3biJpH5C0erTk8CC/8u9/YPJpkZlykVC5xmT5k1yu4XeuQXeuQw7v3urN5ekjmR5ADzcjONbjd61WwhULKK2icZ2BYUEgj+7ciu19FVM3EqFmgItO5djFQ06j82UE1N2ikHXPickTVLEQg7mUY5xxHAb7MHCoX37H60ChZq228/W8W4enjadOmMWHCBB0s4SjjmDeGjmZhdFEhpzMFFbHoKL2NY5YjQra8SldYJpEpk5nwnnfT+L7rqDjrDGLzZhOorvIzIqVE4q++qH79USJKDRg8Q8J1MQIBhGliRiNEZ86k9pJ3UnfpxSQWLkS6LvmeXtxC3nsO3vHC68ET3vWV4p/b/3dfK+2aprc2kRo98ssphtGWrjKkzBIVJkqMPfw2wNv8fg4Tryd7r7f/YBklK0chBcclnXdUWOtjVko0hwVPh0k7i9u7GfvlH2CvVeG13ZanlPubMABH5RtuxdnxEPaL38Neexf2+nuRyc69+vI1CKXnkh04ux5FCAujYTEi1vDaziVAeO57cmgn7p5nELE6jLoTIVpbHHE/Wnkz84PeCGI/QQz2tf3NUjoSdCjK07w1HPPG0NGM8HoyrcOwMJ7mGEGotXjMeJyKU5cw6YM3EKiqZODpZ2j/n18xtPpFJUm+Ui6pf/dVFe81atT6QrgubjZHds8eBp9+lqHVL9H/xJN0/f6P9D7yF9LNOxGB4N7jSoyt/ZzEyz9OBiHAW/xOmCaGZe013LzRJBC4tlqjaC/e+Y7QhvrhMFD8Mn0XkMNxjvHwz/NWnOtwYAiB5S0mrXlrOJrlZTSefnFtZG4At88Lqd23CZnu8FzZxF79Vkghh1twe9Yh+zYiB7eDnR5b6F6kVAZOIYW75ylkskvNTyqfrEbWx6o34aVsP+7OPyNzw4i6hYh4w/j69SjicMpMqQ47lOeQbzACnebIQhtDRzh+2+4Ibd9p3maEEGodoPIKYrNnA9D5q1/TeteP6fnjQ6R37ARQI0JefvBGZBxntFuZyoh0XVxHTSZ30imcfB4nOcLQC6vY8o//xPZ//ld2fOXfaf63/6DtnntJvboJIxxSc47esKB685ccFznGnU0YBk42i5vLY0bCanTLEMhcDjMUJlBRjrBMCoND2KmU53qnKx7Nm0PrVc0BI71OG8MCK6ZSIApG0LNMSjAMNY8o6OWxwt7I0X4wDJAOcmgXTuuzECqDeD0YQaS/qKqPlGp+kmPj9qzD7d2MiNchYmrNOyXkWj++VWgj6Ojkdb5IjUZz9CDAMAg2TiBQVUmwrharvEytSF4apACBEQ5hVZRjhEJqpMVT4MKysKJRrEQcMxYj39NLtrUVMx6n5sILabj2XQTrawnW1lK25BTKT19OqLHBC8SgDJzRxpUsji7trZQFCAOrogIzGlWueIah8jgOwjQp9A+QaWlB2jZlJ51IxemnIaWkfOli4vPn4iSTjLyyDntgoHis9EaTvBOra3Hso96lS6PRHGFIV+lV6XgjQf7vaN2H64zO93odRtLP6+lKJ4+7/SFI9yAM0xs1t9U+v/xiUAUJ2WHcbQ9APrk3HLd0tC2k0bwO2hjSaA4A6bttvd1IibAs7KEhUlu2Im2buosuZPa/fYlZ//x5qlecA5aFGYsjAha5zi4KIyPEZs9m6u1/xYLvfIP4ogU4mQzZ9g6kbVN51pks+O/vMPHmDyICAfqfeIrBVS8SbprEzH+4g4Xfv5MF//0d5nzlX6i/+kqsigqk62IlEgTKE8VQ0wiBCHgBGqwAwrJwUily3d0YoSD1V1zK3K9/lQnvu5ZAdZUymkwTMx4H22bwuZUMrFxFqKGemZ/9NCfc9QOm/f3fEpo4kcHVL9P/+JMI0wTLUu50gQDC8kKYCoEZjyICAa+nTrcGNBrNQSJRozqG6Y0KeeGqx6sKzIDKYwbVb0lHzWuRqjkmDBU63FDhyjEtNdrTvwWZH1FlWSGV37C86wioX5Tec9ueR460glPw9gX2b4BpNBptDGk0B8PbbRRJzxhykkkGV79I2y/+l/SOZoxAEHtkhKGX19L/5NMkN25CmCbp5mb6HnmUgedXUhgcQiKRto2TzjD47PN0P/gQ6W3bVZmZLADJTVvovP83dP3uD+S6uhFWAIQgs3sPqc2bKQwMICUMvbSGwRdWk+voVNfmuuQ6Ohl68SVSO3bgFgrYqRRDL6ym67d/ILunFVko4DqutwhsH0OrXiT56gbcfIH0jma6fvcHun77B/K9vZjhMLn2TnoeVOsoZXbvwQiFKPT3M7xuPanNW7AHhxCmibRtkq9uZGj1i2TbO1QPqnZf0Gg0B4wEw0TaWeRgM27HamT/1pJ+FrnX0BEGMtWF2/kybs8GZHbAG6nZV10hwMkhu9cju15BpnqKUTfJDeHuehx356O47auQAzvU2kW5YRXJrm8T5Ab///buNNqRszzw+L+qpNK+6259e9/d7s1u293e8NrGxhAgMJCQHJJgM8aELHMyJzmZT/40Z+bk5MwMmUkmISFgMAQIGQIxBoNXGi9tuu1u977ffdOuklSSSlXzoST1vdfXxlvje9PP71DmdqnqrVJVqVSP3vd93nZApOIYY9gXnqR14UnsyYNQHrsYXAkhFqQ47+WT3CLlOGBaNv/08iQHRsuYTQeP5mbjEouforhdYlQFlsX8/P4NgySCbgpgXqeOoBPUtFot9u/fzxe+8AU+/OEP8/nPf56enh4cx+lmibEsi0wmg2EYrFu3rlvGG7YVbpfvNJpM/eAHDP3V31CfmHSbqL3T60pxEw6gaeg9aYJr16L6fDSmp7EbDTzRKNg25VePYDeb6L09+JcP4olGaVWqVE6ewiqX0fx+fMuW4R9chqIqVC8MUZ+YxDZNVJ8PvaeHwIrlaKEgtmXRmJ7BHJ/AKhZRfT6iO3egeDyYQ0NuAKKq+Ab6Ca5ZTWN6htrIKK1yGS0Uwr9iOf5lA9itFrWhYZozGTyxKOHNm2jmC1TPnsMql93tplP4V63CEwxglcrURkdpZLI47SxzeipFcN0aN8lD+zXV5yO8ZTOeaBRzeBhzdBy71WqPd/QOjnf7WCuahy1/9ZfErrsWrTOwqYwn8YY6R91stPjKSxMcmarQsGw0VXlHp0T86iid7oaOw85lET62vYeBqDsI6hvd/t42x3ZrOyYO0Hr5S7RO/jN4o3MDj1+VThM1bxglugIl1AvVjBuMdJr/grtfTgslPIgSXw2WiV0chuq0W1u00MXuOCgeH0rPNkDBKY3gVCbcvkB2EyU0gBJbAZ4gTmUSO3scJZBGTW2CZs1d3sy6YxHZFkpsNUpkmVu0MYZdOI+izkpy815wHLRNH8Vz439BCfV1z+3C38hC/GpJMLQACYaWtksdDJmmydNPP83Bgwf5rd/6LQYHB395Jq9LGQzhvmnHcXCaTZx63d1fTQNVdZMkoKAF/O6/m03sRgOnHRyofj+Kx+P2uWk0sBtNd1win89tZtbpk9O03PVsN72r6vG4r7ffQ6tadbfr86F6ve39sXAadbeZnO6W1d1OswkoqD69u327ZqJ6NHfbmuZmsmvvL3Z7rCRdv9j8zXGwLQun3kBRFRSvjuL1gG3TMk23D5KuX2y6905JMPS2STC09F3WwRCdz3/LTWVtWyiqx02IsJBWE6fVHnZA018/EAL3yDo2jlVDwWk3rfO671FR3SZvrYZ7PFQveP1uNjvLdDPPqXq7Zqi9vFUHu+kWrXrdpnWvu+1fEQmGxCIm395CvEmdYFjTNE6fPs3f/M3f8Jd/+Zdks1nsduf99yxgdhwUQPX58MTjeBMJtEgELRjEE4ngiYTdLx7HQdG9bv+eRAJPNNoNZhRVRQ0E8CbieBIJN0hqr4OioPh1PPEo3mTCLT8cRmkPPIui4IlG8cbjqL7Ow5GC6tfbiRICbnDTDhq0YBBvIoE3EUP1+9xte714E3G3XK3dpERxkz144zG8SXd/VZ/v4n4BqtfrDg4bdvtFddbzhMN44nHU9qB9QgjxjjhuUzm8QRR/HLzuDyEL8vhQ/FHQI78kEKIdxCgoegT0qNtvCNpBkuOur0fAHwNvoL0fHhRfFLxh0DrN4NrLe/xuOXrU/fsNty2EkGBIiLdB13Wq1Srf+MY3+PM//3POnDnTfe09C4jArcGxLHdqp852Wi03OUF3GTfDW2eZ7hel4w602lkfu5OlaNZ6Vnu9+evijkn0mvVst0/S/BTeTnc7LfenZtq1ZwuUO2e7czLTtbUz1s1fb8H9EUKId8JxB6nGttxMba9nTsa5N/md0M0mN++e5bhN7+Zkj3M62eQWKN+xX78sIcRrSDAkxNvUarUoFAo8+uij/MVf/AX79u2j0WgAYMsDuBBCCCHEoifBkBBvUqcZ3OzJtm2y2SyPPfYYX/7yl3n66aep1+soiiIBkRBCCCHEIifBkBBvUjcBw6yewp0mcVNTU/zoRz/i4Ycf5qmnnqLaTibwnjaZE0IIIYQQb0iCISFex+zscPOzxM3+t23bKIrCzMwMjz76KF/84hd5/vnnMQzjYmKFOWsLIYQQQojFQIIhIeZRFAVN0zBNk2KxSKFQIJfLkc/nKRQKFAoFqtXqnHVa7QQF5XKZZ555hj/7sz/jwIEDGIbhLiA1REIIIYQQi44EQ0LM4jgOlmVhWRYPP/wwn/zkJ7nnnnu45557uPvuu7n77ru59957+eIXv0ilUumuw6ykCc1mk6NHj/LZz36WZ599trucBERCCCGEEIuLBENCzKJpGsuWLeNDH/oQe/fuZefOnWzbto3t27ezfft2tm3bxtatW7sDrbJAH6JOULR582ZSqRRae3ydSzMqoRBCCCGEeLskGHoD8jv+5aPTP0hVVfr7+/nEJz7BAw88wH333cdnPvMZ7rvvvu50//33c/PNN6Pr+mvWVxSFWCzG3r17efDBB9mwYcOc5cBxLywJjJY+uUG8LXLYxFvntCe5by5d8skXi5cEQ/PM/rhqqtx4l7Lu2XuTp7ETzITDYbZu3cqePXu4/vrr2bNnD3v27GH37t3d/1+7di0eT2fU74vr9/b2cscdd/DAAw9w5513kk6nuzVI7YVQPJ7XJGQQS4gCqIo7ibdMURRw/yeWKKf9EfjVnUQFlPZ99Fe2TfGuUlRQ1Vk/BP5KLyAh3pAEQwtwcFAViPk9eFQFFPlFY8lxHBQUAh4Vj3Lxpvtmbr3zxxKaP65Qs9nEsqw5abMVRSGVSnHbbbfxuc99jnvvvbdbI9QJstr/wJtMovp8F78UJDBaGmZ9iWuhEFoohKJpc8+v+KU8qoLfo6LJMVt62rdSBYj4NPf7sVtrc+koHj/4YrNmzH5VLGqKCo4NngDoUdB885cQ4j0nwdACFBQ0VWFdKkjEp6Eq7g2//YOmWMQ6YY/tgFdTWJP04/Oqb+k3qE5zuYUmTdPQZj0AK4qC4zj4fD4++MEP8od/+Ifcfvvt3XTbsx+SlXatUPiKzfgHl6HquvsloSrug7ZMi3pSVBVsG0XTCG5YT2DVSjeoFW+KgvvM7NUUlsf9hHwaLce9377Zz6Z47ymA36OyridAwNvuD3nJtK+MUB9qz5XgDbr3TJT240vnzi7TopwUxQ2GWg2U8ABqcj2KHnGTCSnK/JMtxHtGe+ihhx6aP/NyptD+/KIQ83uoNGymy00KNQv3o6u4C4lFyXYc6i0Hr6ayoSfIB7akiPjdZmnvxmlTFAXbtjl06BBPPPEEpmmi6zoPPvgg999/Pzt27OgGTXNqC9p/K4AWDKBoGrWhIcyhETdy6+yf48i0CCfHtrHrdRzLIrhmNas+9x8JX7GpWzMkX+xvUvv2GfN7KJgWU6UG1WbLPXxyDBcvx20x0bAcdE1l14owt6xLENY1FPUS1owqCjhuzZDiDeLUCzjTh6DVnHW9dGqmZFpUk+KA3YJGBfQInis+jrbhgyj+ePv1S3TNCPE2KM7stj5iDseBTKXBwbEyh8cNJkoN6paNLUdsUVJwf3WOBzxs6g2ya3mUtekAHvXdCYQcx0FRFCzL4ktf+hJ/+qd/iq7rfOELX+CjH/0o69evJxgMvqZGaI72AKxWLk9u38/J/vRJSodfpZkvgG27F51YdBSPB088RmTrlaT33kHq1lvwRCMXa47EW2LZDqPFOofa99ZMtUmz5cjlv0gpCuiaQjqsc0VvkN0rYwxEddR2v7lL+wloXxTNGnb+LK3j38IeexHHmADLbNcUiUVHUcEbQImuQFt7N+rqO1CT60HV5Z4pFh0Jhn4JB8hWmowX62QqDYxGC7tTSy8WFwcCXo14wMNATKc/ouPV3CZy74ZOMNRoNPjqV7/KX//1X3PXXXfxe7/3e6xatQqfz/fGgVBH+yPXyOaoDQ1RO38Bc2ISx5pV+ygWCfcBXfX50HvSBNesJrh2Dd5kQr7Q36FmyyFbbTJWNMlWmtSaduexVywyChDUNVJBL/1Rnf6I7z3IH+LWNNi50ziFszjlMaiXZzWbk6tncWifC0UDXwQlthI1vQUl2Ov2F5L7pliEJBh6k2zHodlyMC1bfr1cxHRNRfe4fb46X4/v1q23EwzV63X27dvHgQMH+MhHPsKaNWvm9CN60xy3qYDTbNIslnDslvSeWIQcx0H1etFCQbefV8dbOddiQQ5g2w6Nlk3DcmtNxeKjALpHRdcU1Heppv3tc9wAqFHBsUwJghYrRQXNj6KHus0d3Qvnvb16hFiIBENvQucAyUd4aXC6/7k0z6uWZVGtVmk2mySTyW6Q9JYCIS7WEF2SnRTvvvb5cuCtn2uxIPkILC2de+t7er4cu70D7+VOiDfNcWZdNHLOxOIkwdBbMPshWyxSv8L8Fp1023PGEXqbHFvavS9m7g+a0j/oUpF76xLQvvQXxyfAkYtmSZB7plgaJBgS4m3ofGykhkAIIYQQYumSYEgIIYQQQghxWXrn7XuEEEIIIYQQYgmSYEgIIYQQQghxWZJgSAghhBBCCHFZkmBICCGEEEIIcVmSYEgIIYQQQghxWZJgSAghhBBCCHFZkmBICCGEEEIIcVmSYEgIIYQQQghxWZJgSAghhBBCCHFZkmBICCGEEEIIcVmSYEgIIYQQQghxWZJgSAghhBBCCHFZkmBICCGEEEIIcVmSYEgIIYQQQghxWZJgSAghhBBCCHFZkmBICCGEEEIIcVmSYEgIIYQQQghxWZJgSAgh3gbHcebPEu8Sx3G6kxBCCHEpKY582wgh/h3o3Mpm39IURUFRlFlLvXscx7lkZYu5x7dzTi/58XYcOlfPJd+WEEKIRUFqhoQQ4i1wHAfLsjCMMs1GQ2ovLoFms0G1UqHRqF+y4ys1T0IIIZCaISHEvxelUpFyuYRlWdD+ZT8UChMOh9F137v2S3+z2SSXy3L06GE2b95Cb08fHq93/mLibbJtm7HRYcZGR1ixcjX9A8uYmZlC0zxEI1F8fv/8Vd6WhWqbjHKZUrlIMBgiFou/a9eMEEKIxUt76KGHHpo/UwghlhLHcXhp//M8/uNHeenF5zjy6iGOvPoKxWKBQDBEOBxB0zR4B82fOg/PFcPglZd/wd//7f9m3doN9A0M4PV6cZy3X7a42CzONGs8+8yT/OD732XZskF6+/r57ne+yeTEGPFEkmgs9o6bKLq1Qja2bXebUtq2zauvvsJPHn8M27YZHFzR3cY72ZYQQojFTZrJCSGWrE6AUjdNTp8+ydkzp1BVjcHB5Xg8Hh579F/5529/g2NHDwNgt1rd5lELNZNyHAfbthd8raPRbJDNZIjHk8TiCXTdB1x8WLZt9yG7Uw6zyp1vofmdefPnz36t8/dC++nOu7jt+fsy3+ztzV9m/vF4M3//sjI7Zi8ze7mKYVCtVgkEQvT29VOtVCiVSziAx+t5zXrz159d/vz96Ey1Wo2x0VEOvXKQSqVCq9Wi2WhglMtUKka7JnFuWa+3HdrHeHb5r7ecEEKIxUeCISHEEuY+cBpGmYpRprevn9vvuIu77/k1Pvkbn+b6G26mkM9x6uQJWq0WqqZ1awI6E7MenJmVdEFRlAUfaBv1OjPTUwSCAQKBAJqmzVlOVdXXlK8oCqr62tvt3PnuPrzR9mcvP38bs5eZPX/2/sw2//12lpu9zdnz38zfnXLnz5tt/nZnTwCVioFhlNA0lUQiQTQa4+P/4VPceuudpFI9qKqKtsB5nL2t+duYvy+5XIb9+5/jsR/+K45jo6oqXl1nx1W7+I3f/DRXbt2Gx+PtrjO/nPnnZf4576w3fzkhhBCLz2u/nYUQYkm4+KBpGAaVSoVgMMjKVWvo6x9gxcpVbNi4GUVVKRTy1E2TzMw01WoF06yRy2UpFgtzApBSqcjU1AT5XBbLsuY8QHc0mg0y2Rni8QS6z9cNYmjXEGSzGcbHR5mZnsIwyjTqdYrFAtNTkzQa9W45rVaLaqXCxMQ4plnDccBxbCoVg/HxUXLtfeiwLItisUA2m6HZbFIsFMhlMzQaDZj14F2tVsnn8xhGGdu2mZmeYnpqkkql0l2m857BoVQsMDU5QTabwZ5XG1WtVshkZqjX6+2/p6lUKlQqBpnMDJZlUa+b3WPWbDZx2jUvExPj5LJZGvWL77m7XcfBKJeYmppgYmKcYqFAo1HHtm3KpZJbMxQMEonGaDTq+H1+QuEwmqZRKhYZGR5idGSY0ZFhxsdGmZqaoJDPd7dB53gV8kxMjDE5OU6pVMSyLMrlEsNDFzh75jTZbIbRkWH3+qibKIpCMBQiEonMCWoqlQqTkxNMT03OOScAjUaD6elJTLOGZTXJ57JMT01ilMsLXj9CCCEWF+kzJIRYktzgwf3V/sLQeY68+grhcIRrrt2D3+9HURRGR4a4cO4c8USCweUrePbZJ8llMwxduMC5s6exWzb9/QM0Gg1OHDvCkSOHOH3qBGOjI1QqBtFoDF3XZ23TYWZ6iuf2PcuKFavYunU74UiUZrPB9PQ0h145yMkTxzh/7gxnz56hVCqgKAqTkxM8//zP6OvtJxx2H7TLpRIvv/wLTh4/Sl9fP45jc/7cWQ4fOsjpUye4cP4sdbOO3x/AHwhglEu8/MoBjh05TLGY58SJY+TzOVKpNIFAoBsEnD1zisOHXmZkZAjDKHP40EGOHztCuVzE7/MTjkRwHIdyqcTx40c4euQwp0+777lUKhKNxfB6vdi2w9kzp9j/4nMUCnlOnzrB6Ogwus/H1NQkL734PKZpMjI8xKGXDzA2NkKlUqFUKnLyxDGOHDnE2TOncRSIRKLout7ebpFjx45w/PgRzpw5xfnzZxm6cB5N8xCORLlw4Rznzp0mHI6we8+NHHn1EEePHMYfCOLz+Th//gz7X3ye0bFhRoYvcPLkMYaHLuA4NsuXrwRgcnKcE8ePcuzYEc6fPc25c2cYGx0mGo0xOTnBywf3c/r0CXDcYCYYDFGv1zl96gTnz59l7Zr1aJqKYRicPXOKI4df4dTJ4wwNnadYyBMMBvH53EQOU1OTPPXEj92Ad3qKkyeOcfzYUaZnpohEYwSDIZB+R0IIsWhJMCSEWNIUReH4sVc5f+4s/f0DXL3rum7TtZdeeoHMzDQrVq4iGAzx9Yf/gVwuy9TkBMVSgWQyxcCyQYYvnOcH3/8XJsbHKJdKXBg6z7mzZ+jp6aWnt7dbS2C3WoyPj/L8cz9j246drFu/AV3XGR8b46X9z/Pcz5+hWq1ilMscOnyQmekp4vEEuWyWf/7OI2zbfhV9ff0ADI8M8d3vfJNqpcymzVuYmBjjuX3PcPzYUZrNJqfPnGR46DzRWJy+/n6y2QyP/uB7/OKlFzAMg8nJCbxeL6vXrCMUCmG3kwG88Pw+nnryJ1y4cB7btpmcGOf4sSOMjgwTCAZZs3Y9lmVx8MB+nnryccbGRqlUKoyPjXL06CF60r0kEkmslsX+F57j0Ue/R6lcYmxkBKtlEYvFOX3yBI/98PtYlkUun+XCubOcPHGM8bFRjHKZkZELzExPc+AXL9CyLPr6+oknklQMg4MH9/PzfU8zPjZGpVJhdGSYF57fR7qnl8HlKzh37gyjI8P09S/jiiu28sNH/5UjRw6xfHAFqXQPoyPDnDp1DLNeZ2pqkpcPvsTU5ATLlg2yfsMm8vkcP9/3LAcPvMT01ASVaoWzp09x8MB+1m/YhFmrcfzYUUZHh0mlewAYXDZIPpfjpZdeYGxkmBtueh+gcOTIKzz7zJOcOnUC0zSZmZ7ilVcOEIlESaZSeDwezpw6yde++veUSkVKxSKZzDSnT53gzOmThMNhVq1a846TdwghhLh0pJmcEGJJmv1gmc/n0FSVcDgCgGma5LIZjh19Fd3vZ2BgkHrdxLZtBgeXc+8HP8ynP30/e66/kczMDI899n0mJ8e5+wMf4sEv/Cduve1OjHKJ537+LI1Gs7udRrNBqVTCqBgkU2m8Xp1cLsfzz/2MfT97mquuvo7P3P8gv3vfA1x55TZ8uo9wOEJvXx9ezUutVqXZbFCpGIyODDExPsbe999LIBjkhef3MTY+yp3v/wCf+/0/5uOf+C2mpic5efI4hULBHduoXCIeT3LNtbv59O/cx4c+/DFSqTS0+604joNZN9E8GmvWrOWWW+/kgQf/kI9+7JN4NA+jI8NuE7tinu9+55vgwAfu/Qi//wd/wkc/9glM0+TJJ35MLpel2m4O5/cHWL9hI5/67d/lU5/6Xfr7BqhUDCKRKBs2bubDH/k4n7n/86xYsYpMdoZQOMwnf+O3+YM/+s9suXIb+VyWiYkxzFqNUyeP80/feJhIJMZHfv0T3Hf/g7z//fe6tUIhtxlcuVSk2WySiCewHZt8Pkc63UMkGiORSHLDje/jP/3Jn/OFP/gTbr7lNtasWcfW7TvZff1N1Ot1nn7qp/z8Z88wsGwZv/3p+/j073yW3XtuRNU0fH4/V1+zm2uu3UP/wCC33HI7f/THf8qeG27GaTet6+vvx+vVqVYqPP6jH5LNZrjl1jv5/T/4E+777Ofxer28+OLPGR66QL1ex6iUUVWVFStWctvte/ndzzzAhz/ycSKRCEdefWVOqnchhBCLjwRDQoglq/OAWS4VyWWzHHn1Fb77nW/wyMP/wH/7rw8xMT7G1iu3s3LVanK5LJqmcfMtd7Bp0xbSPb2oisrkpFtz8pFf/wRr120gFAqTSvXQ29ePYZTndIKvm3VKpSLYDulUD7pX59XDL3P27Ck2brqCez7wa8RiccxalVqtiu7TSaV7iEajeHWdcqmIWasxNjbC0SOH6e3vZ+26DRw/doR8Ps8VW7aye/cN+P1+rrxyG4lECsexaTabNBsNisU823fs5Mort7NscAWhULgbBCmKQq1WpVQsEI3GuHrXblatWk0wGCLgDxAMhQgEgphmjVcOHsAwytx+591suXIbfr+fdLqX7duvYnx8lJpZo1KpUK1WSCZT3HHH3axavZZoNIpRNahUK/QPLOO22/fS29tPKBTC5/Ozds16brr5Fnp6+wmFwvh0P6FQGL8/QCYzzY9//G/09vVz6+17Wb9hEy3bplwu4TgOPb39eL1eKtUKqqqS6unFtm2mpybd9xAMts+FAyjMzEzz08cfIxAIcN3uG4hGY8zMTPHTx3/Ith07uenm2xgYGMRqNslmM+6YU6EwzWaTUrmIbbfo6e1DaSekKBbymLVau9ljkwMH95PPZdl1zXXsuf5GfD4fkWiMnVddg2GUKbXPZbGQR/f7uPl9t7Nm7Xqi0Rj+QIBAMEQkEkVRJZmCEEIsZhIMCSGWtJZlUSwWsVoW9Xrd7ZBfLrJx02Z+81O/w+49N6IoCtlsBo/XQyqVQve5g7CWjTIT42MYhsHQ0AVeeO5nPPXk4+x/8TnGxkYIBoMo7exhjuNQrVYoFQuEIxFSqTS24zA+NgooXLl1O752uaVSCbNm4vP7SSSTBINhPB4P9Xqder3O5Pg4k5MT3HTTrQQCQUZHhykWckxNjvPcvmd48onH+eG//SuTE+NoqoamqVSrFcqGQW9fP/5AwA0EZyVEoN3Rv1wu4/F46elxM68BZLIz2LZNMBikYhicOHGUvv5+UqlUe4wkB6edAEJRFRSgXC5SqVQI+ANEozG3LEWhXCpTq1YJBoIEAgFUVSWfz1Gvm/gDAYKhMEA3JXYgGCISjVEqlRgZHmLnzl2kUmk0TcM0axSLBVRVpa+/n0a9jlmr4fcHSCaSNOp1KhWDWCxOMBDsnnPTrPG9//dt7FaLnVddw6aNV2CaNc6eOYVlWWzYsIm+vn5UVaXRaDAzM0U0GsOr61QqZUrFAqqi0tPTh6qqtFotDMMAIJVK07IsThw7QigcpqenD5/P300uYds2CgqKAtValUKhgE/3kUgku/3LqtUqtWqVdNoNuCUQEkKIxUuCISHEklapGJRKRQaWDXLDje/jttv3cscd7+eOO+/mql3Xku7pxTRrlEtFotE4gYAb4NB+YM/mMigKTE9Ncvr0KU4cP0o2myGVSrNh42Y83f4e7sNvsVQkHI4QDIWpVauUSkX8fj/Ll7uDdHYCr5ZtEQ5HCAXDhEIhvF4v9Uad8fFRxsZH8fl0dl2zG7Wd7a7RbFAsuskFThw/wvnzbh+o5StWoqoaxUIBBUine16T1KGjVCpimjX8fj/RaAylXXuWzWZRVJVQOIxZNxkbG6G3bwCfP9Atw7KaFIsFwuEoHo+HUrFIvV4nGovj9Xq72yiX3WZssXi8+35z+RxNq0kg4CYWcByHcrmEUS4RCocIBoKUSm55q9esaweZbra6Yju4DIXCGO0xhoLBILFYjHw+h91qEYvFuwFgpVLh4IH9vHr4ZbZu28GWLVsJhkLUTZOx0RHC4TDJZAq/PwA41OsmhUKenp5edF2nVHSDvGAoRDQWR1VVarUqlWoFr+4lmUzRsluMj40SjUa7TS87WQMLhQK6z4+u+6hW3P2PRKL4/H5UVcWyLKoVg0ajPqfmSQghxOIkd2khxJLTqamxbZtSqUTFMOjt7Wf7zqu5etd17Ni5i3XrNxKJRN2H3WoNwzBItmtCOmXUzBoVwyCeSLJp8xY2btrM+g2buHrXtdx62162bt2B5vG0gyfFre0oFojEYni9HgyjfDH4iMW7gUkulwEgHI6g6zq6z0c4EqFiGBw/dpR8LsuaNevp7x/AbrUol8okEmk2bd7C+vUb2bBhE9u37+SOvfewadMW7FaLfD6H7vMRjyfwenV3n+b1Q8lls1jNdhAWDoOiuMeoWEDXvUSjMaxmk3K5RDLpHotOwNSpQenr7Uf3+SiXy1iWRSKRQFXVbi2TYRg4jt3tqwSQz2VptWxCoXA3a1wul6HeqBMORfB6vZRKJRRVJZFM4vG456BaqVIsFkkkkmiah3w+R61dM+T3B5iZmcZ2cIMhv59Go8HI8AWefOJx+vsH2XnVNfT09OE4Ds1mk1wuSzQaw+fzoaoKrZZNzaxRLpfp6elD133tgNEkEokSCLjBoGGUqbYHW00kUziOQ6lUJBSO4G8voygKtt1ianKcaDRGKByhWq1glMuk0j3dcYnMdhNDYE7tnBBCiMVJ7tJCiCWpExAVS0XMuonf7ycYdLOqOY7dfZ12s6pqtUI6le72sQGwWy1s2yYajfG+993O3rs+wF3vv5e9d32AG258H4PLV3QH+KQ97o5hGKSSKRRFpdFsdMcj8rQz2DmOO9YQKITDYRRFQVU10ukepqYmOXH8KIqisH3H1e0HbNutRejp5drrrueuu+/lrrs/yF13f5Cbbr6VgWWDmKZbuxEMhAiHI6+bnSyXy+LgEIlGuzU0jUYDw3ATIUSiUWinJVdnDRRar7tjMGUzGdat30gwGGqPU9Qinkh2t+WOjWSgKArJecGQokAo7PZhsm2byckJwB23R9U0zHoNAI/mQVHAth0qFaMbmKmqQjY7Q7PZIBAMguL2C9I01X0/uo+ZmSlePfyKm3jirntYvnwlmsfTDoxbmLVaN3h1HGg03D5eZq16sWaoVKRed4Mhr9cNYMrlEqZZw+d3g02XgqpcPEaW1SKTmWF6aoKBgWUkEklqtRq1WpW+XrdJHkDFMKhUDLxeL/F4snuchRBCLE4SDAkhlizbtslmZrBbNtFolEjEDRRUVZtTm1GtupnRevsG5vxSHw6HicXiZDLTZLIzVCoGtVqVcrlEqVSk1bJwcJMTOLZN3TSxrCZ9/QNoqtqugXD783T6zZRKJSbGx1FVlWg0BoCmqvT1DXD+3Bm39qVvgM1XbAHo1vbkcllGhi9Qq1YxazW3k36xSKPRoFo1KBYKhCNhN7iY9YA9+0E7n88CEGpnZnMch2KxQLVawed3kxl4dZ1EIsXI8JCbNMA0Gbpwnlde/gWax8P2HVcRCgYxjDK0m+V1mKZJqVR0g6FkCtpBabFYxOvViUTcJmV2e7BX3evF7w/g9Xrxerw0Gw1y+aybftwwyMxMUyoW6esbQFW1bpKLSCRKo506OxJxm6q17BbHjhzm5YO/4IYbb2bT5i2omtbN1qZpHoLBEMVCAcMwMGs1stkMY6OjNJsWPb2dYKhEtVLF69Wp1+u0WpZbo2ZZRMIRwu2ALpVOk8lMk83MYNZqTE1Nsu/Zp7GsFhs2biKVTmOaNer1Or39F4OhUrmIUTHw+QOE2mNKsUDgKoQQYnGQYEgIsWTZrRZDF87TarXw+4Po3tf2pam1H4oNw+g2W+oEEz09fd0U2P/3r/8nX3/4H/jaV/+eh7/6JZ5+6ieoqhtQAJh1k0w2Q6FQIJ3uRVFV0uleVq5cw/j4GF/6u//Dt/7p6zz8lS9x7OhhNI+HSDsYcpftwTRr9A8sY/2Gjei6D9u2UVWV6667nka9zve/9y985R//jm9/+xH+1//477z44s8pFQsUCwWmpiaIxRKoqlsr1Nkvuk24bMbGRrAsi1DIHejTtm2mp6fIZKbRvTrRSIxkMsUtt97OqZPH+c63H+Er//i3fOubX+PUyRP82oc/Rrqnl1K55DZRs+1ZNSVu8798PgeKQiQaw3EcTLPG1NQEOA6hdvKEVsvizGk3mYHm0QiHIyxfvpJEMslX/uFveeRrX+aRr32Zp5/6CdVqtZvsYGJ8jEajjt/vp1arMnT+LMFQGI/Hy+FDL/PsM08ydOEcxWKR73/vu3zjka/w+I8f5cKFc0SiUXZedQ3ZbIbvfOsRHv7Kl/jnb3+T5/Y9g6/dh8rj8RCNRmlaDV58YR/f+ubDnDlzmpGRIer1Oj5/AI/Hi67r3HHH+8lmMvzg+//CV/7xb/nG1/+RZ575Ke+/+4OsWr2WumkyPTXl1hSmZyWrmJkmMzONpmntmkEJhIQQYjGTQVeFEEuS2xTKJjMzTTyR4IotW+nt6+82a+osU6+blMtlAoEAO3buIh53+8AAbi1ENMqq1WvwaB6aTQuv18uKFau4YstWksl0J5MzVtOiXC6i6zpXX30t8UQSr9dLMpkkFovj4ODTfezYcTWxRIKNGzazavUawuEwrZbN2OgI58+f46qrr+Waa/cQaGdHUxSFeDxJT18foXCIer0OwIqVq9m6dTvpnh5qZo2WZbFh42bWrl03p5lcJyhyHIfM9DQDAwNs2LCZZCqN47h9qpqNBpuvuJKVq9bg9/tJpdL09w246wPLV6zkhhvfx46duwgGQ25NmmHQ37+MzVdcSbAdXJXLJeqmyfLlK9m8eQs+n49m0yKTmWblqjWsb/fTsu0Wk5MTLF+xkk0bt5BKpwkGQwwOLqdlt/DpOqtXr2XlqjX09w9w5dbtJJMppqYm6Un3smHjJqIRN4HCunYfqmq1ilmrEo0nCAQCNK0mtWqNUDhMf/8APb19xOJx0qk0Tru/1qpVq1m3fiPJZIqrd12LPxAkEo4QibpJInw+P5s2baHRaBAKhVi7dj2Dy1egKCqJRIp0Tw9eXafVapFKp7np5lu55prdxOMJms0mlYpBOBxmx85dxGJRFEWlWCgACqtWrWbjxs04jgRDQgixmCnO7J8XhRBiCXH7pozTbDRJJFNE231iZms2G+RzOSrVCn19AwQ6aanbbNsdx2d6agLDMFA1jWg0SiKRwu93+90oioJlWeRyWYxyiYFlg/j9bjkty6JQLJBr9xPq6++nVCyi+/R2Z34/tVqNrz/890xNTXLn3nu49rrr5/RFchyHWq1KIZ+nWCqg4Na8pFJpfD63038+lyMYCpGeVQsxm23bjI+NoqgK8XiCUCiM4ziUSiWymRli8TiJhNuHxbZtDKNMJjPTDQSSyXQ3lXitViWbyaCoSruvjQ/amfty2Swer4eenj48Hg+WZTE2OoLP56aX9vn9tFotRoYv4PF4SSSThEJh7HYzw/GJMVqWRSyeQFUVTNMkmUwRDIYYGx3BwSEeT+DxeJkYH8MfCJBOpzHKBvl8lnq9ju3Y4ECr1SISiZJO9xCNxdxkEaUimZlpVFUl1O5fZZRLLF+xEo/HS6vVolgskM3M4OCwfPkqjHKJet0kFI7Maf5XqVTI5TJUq1X8Ph/pdA/B9thOjUadfD5PrVqhf2Cwm1Y9n89RLpfQdR/9/QPzzpIQQojFRoIhIcSSNr+52EI6yyz0eifYmX8rfL1lF3pt/rq0m4o1Gg2qlQqjoyM88vUvs+ua3dx40y0sX74Sx3HmBDULlTE7WJo/byG/bP9ml6fgVnp1KO1hi+Zv85eV9VbmzZ4/2+ttc+F/O0CnTPfv+csvZKF968y/uB26ZS9U1js5RkIIIRan1/68KIQQS8xCD67zObOyy8128WHYfX32tJDXe23+utVqlaEL53n++Z/x7DNPEA5H2LZtJ729/fA6D8rzy5j/2i+z0Lrz/03nPb9me3Mf8t9sWZ35873R+gvNm//6/GXnz5s/MS9o6szr/Hu++eu6f198fX5Zndfnn7eFtjV/nhBCiMVLaoaEEOJdZNs2iqIwOTHOT37yGE/89EekUz389qc/w6bNW+b0FRJCCCHEe0uCISGEEEIIIcRlSZrJCSGEEEIIIS5LEgwJIYQQQgghLksSDAkhhBBCCCEuSxIMCSGEEEIIIS5LEgwJIYQQQgghLksSDAkhhBBCCCEuSxIMCSGEEEIIIS5LEgwJIYQQQgghLkv/HzPZNF8BV3NfAAAAAElFTkSuQmCC)"
      ],
      "metadata": {
        "id": "EXBAzj4p66F0"
      }
    },
    {
      "cell_type": "code",
      "source": [
        "class TransformerEncoderLayer(nn.Module):\n",
        "    def __init__(self, config):\n",
        "        super().__init__()\n",
        "        self.layer_norm_1 = nn.LayerNorm(config.hidden_size)\n",
        "        self.layer_norm_2 = nn.LayerNorm(config.hidden_size)\n",
        "        self.attention = MultiHeadAttention(config)\n",
        "        self.feed_forward = FeedForward(config)\n",
        "\n",
        "    def forward(self, x):\n",
        "        # Apply layer normalization and then copy input into query, key, value\n",
        "        hidden_state = self.layer_norm_1(x)\n",
        "        # Apply attention with a skip connection\n",
        "        x = x + self.attention(hidden_state)\n",
        "        # Apply feed-forward layer with a skip connection\n",
        "        x = x + self.feed_forward(self.layer_norm_2(x))\n",
        "        return x"
      ],
      "metadata": {
        "id": "etPAfABs7D1L"
      },
      "execution_count": 17,
      "outputs": []
    },
    {
      "cell_type": "code",
      "source": [
        "encoder_layer = TransformerEncoderLayer(config)\n",
        "inputs_embeds.shape, encoder_layer(inputs_embeds).size()"
      ],
      "metadata": {
        "colab": {
          "base_uri": "https://localhost:8080/"
        },
        "id": "Kaqbjnkx7NdM",
        "outputId": "6daa41e0-153e-411e-fedb-7b47c30d1e11"
      },
      "execution_count": 18,
      "outputs": [
        {
          "output_type": "execute_result",
          "data": {
            "text/plain": [
              "(torch.Size([1, 5, 768]), torch.Size([1, 5, 768]))"
            ]
          },
          "metadata": {},
          "execution_count": 18
        }
      ]
    },
    {
      "cell_type": "code",
      "source": [
        "#This are the embeddings with positional encodings positional embeddings\n",
        "class Embeddings(nn.Module):\n",
        "    def __init__(self, config):\n",
        "        super().__init__()\n",
        "        self.token_embeddings = nn.Embedding(config.vocab_size,\n",
        "                                             config.hidden_size)\n",
        "        self.position_embeddings = nn.Embedding(config.max_position_embeddings,\n",
        "                                                config.hidden_size)\n",
        "        self.layer_norm = nn.LayerNorm(config.hidden_size, eps=1e-12)\n",
        "        self.dropout = nn.Dropout()\n",
        "\n",
        "    def forward(self, input_ids):\n",
        "        # Create position IDs for input sequence\n",
        "        seq_length = input_ids.size(1)\n",
        "        position_ids = torch.arange(seq_length, dtype=torch.long).unsqueeze(0)\n",
        "        # Create token and position embeddings\n",
        "        token_embeddings = self.token_embeddings(input_ids)\n",
        "        position_embeddings = self.position_embeddings(position_ids)\n",
        "        # Combine token and position embeddings\n",
        "        embeddings = token_embeddings + position_embeddings\n",
        "        embeddings = self.layer_norm(embeddings)\n",
        "        embeddings = self.dropout(embeddings)\n",
        "        return embeddings"
      ],
      "metadata": {
        "id": "pz_yLLcH7uXq"
      },
      "execution_count": 19,
      "outputs": []
    },
    {
      "cell_type": "code",
      "source": [
        "embedding_layer = Embeddings(config)\n",
        "embedding_layer(inputs.input_ids).size()"
      ],
      "metadata": {
        "colab": {
          "base_uri": "https://localhost:8080/"
        },
        "id": "_3V0n05sZykb",
        "outputId": "49308ed5-adc4-4ce2-c1d9-4d9ae4c3a6e8"
      },
      "execution_count": 20,
      "outputs": [
        {
          "output_type": "execute_result",
          "data": {
            "text/plain": [
              "torch.Size([1, 5, 768])"
            ]
          },
          "metadata": {},
          "execution_count": 20
        }
      ]
    },
    {
      "cell_type": "code",
      "source": [
        "##This is the part of the code in steroids. The transformerEncoder\n",
        "class TransformerEncoder(nn.Module):\n",
        "    def __init__(self, config):\n",
        "        super().__init__()\n",
        "        self.embeddings = Embeddings(config)\n",
        "        self.layers = nn.ModuleList([TransformerEncoderLayer(config)  for _ in range(config.num_hidden_layers)])\n",
        "\n",
        "    def forward(self, x):\n",
        "        x = self.embeddings(x)\n",
        "        for layer in self.layers:\n",
        "            x = layer(x)\n",
        "        return x"
      ],
      "metadata": {
        "id": "8uZ8TQSdaIGz"
      },
      "execution_count": 21,
      "outputs": []
    },
    {
      "cell_type": "code",
      "source": [
        "encoder = TransformerEncoder(config)\n",
        "encoder(inputs.input_ids).size()"
      ],
      "metadata": {
        "colab": {
          "base_uri": "https://localhost:8080/"
        },
        "id": "yb_of1lWb8t0",
        "outputId": "d1853c80-2895-4db5-8450-080257e53de8"
      },
      "execution_count": 22,
      "outputs": [
        {
          "output_type": "execute_result",
          "data": {
            "text/plain": [
              "torch.Size([1, 5, 768])"
            ]
          },
          "metadata": {},
          "execution_count": 22
        }
      ]
    },
    {
      "cell_type": "code",
      "source": [],
      "metadata": {
        "id": "cqLdPFmWcEez"
      },
      "execution_count": 22,
      "outputs": []
    },
    {
      "cell_type": "markdown",
      "source": [
        "Note. Transformers are divided in task especific body and task especific head. We can build a classification head on which usually the first token is used for the prediction."
      ],
      "metadata": {
        "id": "qBLQZHnWcev_"
      }
    },
    {
      "cell_type": "code",
      "source": [
        "class TransformerForSequenceClassification(nn.Module):\n",
        "    def __init__(self, config):\n",
        "        super().__init__()\n",
        "        self.encoder = TransformerEncoder(config)\n",
        "        #note that dropout is a regularization method to make some neurons 0 to estimulate learning in all neurons\n",
        "        self.dropout = nn.Dropout(config.hidden_dropout_prob)\n",
        "        self.classifier = nn.Linear(config.hidden_size, config.num_labels)\n",
        "\n",
        "    def forward(self, x):\n",
        "        x = self.encoder(x)[:, 0, :] # select hidden state of [CLS] token\n",
        "        x = self.dropout(x)\n",
        "        x = self.classifier(x)\n",
        "        return x\n"
      ],
      "metadata": {
        "id": "GU-vi87Qcwi8"
      },
      "execution_count": 23,
      "outputs": []
    },
    {
      "cell_type": "code",
      "source": [
        "config.num_labels = 3\n",
        "encoder_classifier = TransformerForSequenceClassification(config)\n",
        "encoder_classifier(inputs.input_ids).size()"
      ],
      "metadata": {
        "id": "YvyznTEYc800",
        "outputId": "7e0782ac-5e62-4700-d4d0-a4b6d3e91de3",
        "colab": {
          "base_uri": "https://localhost:8080/"
        }
      },
      "execution_count": 24,
      "outputs": [
        {
          "output_type": "execute_result",
          "data": {
            "text/plain": [
              "torch.Size([1, 3])"
            ]
          },
          "metadata": {},
          "execution_count": 24
        }
      ]
    },
    {
      "cell_type": "code",
      "source": [],
      "metadata": {
        "id": "ibwC5npCc-TU"
      },
      "execution_count": 24,
      "outputs": []
    }
  ]
}